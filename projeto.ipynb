{
 "cells": [
  {
   "cell_type": "markdown",
   "metadata": {},
   "source": [
    "# Relatório Final - Introdução à Ciência de Dados (2020)\n",
    "## Pontifícia Universidade Católica do Paraná (PUCPR)\n",
    "\n",
    "* Professor Eduardo Kugler Viegas\n",
    "* Professor Jean Paul Barddal\n",
    "* Professor Vilmar Abreu Junior\n",
    "\n",
    "`Jessica Ilkiw Lopes` - `jessica.ilkiw@gmail.com`"
   ]
  },
  {
   "cell_type": "markdown",
   "metadata": {},
   "source": [
    "# Introdução\n",
    "\n",
    "   Hepatite é um termo genérico que significa inflamação no fígado, que pode ser causada por medicamentos, doenças autoimunes, metabólicas, genéticas, álcool, substâncias tóxicas e vírus. As hepatites virais são as mais comuns, sendo causadas por vírus hepatotrópicos, designados por letras do alfabeto (vírus A, vírus B, vírus C, vírus D e vírus E). No Brasil, as hepatites virais mais comuns são as causadas pelos vírus A, B e C. Existem, ainda, os vírus D e E, esse último mais frequente na África e na Ásia. Milhões de pessoas no Brasil são portadoras dos vírus B ou C e não sabem. Elas correm o risco de as doenças evoluírem (tornarem-se crônicas) e causarem danos mais graves ao fígado, como a cirrose e câncer. O diagnóstico precoce da hepatite amplia a eficácia do tratamento. A base de dados aqui analisada é de pacientes portadores de hepatite (não sendo especificado o tipo) que contém 20 variáveis e o total de 1 milhão de instâncias. Algumas das variáveis apresentadas na base de dados representam características dos pacientes, como idade do paciente e gênero, assim como sinais/sintomas clínicos, como fadiga, mal-estar, anorexia, figado aumentado e \"firme\" (característica conhecida como hepatomegalia), baço palpável (esplenomegalia), presença ou ausência de \"aranha vascular\" - um tipo de telangiectasia (vasos muito finos existentes na superfície da pele e configuram um problema basicamente estético já que não costumam apresentar sintomas, ou seja, os pacientes não têm sensações ruins atreladas a eles) -, ascite (que é o acúmulo anormal de líquido rico em proteínas no interior do abdômen, no espaço entre os tecidos que revestem o abdômen e os órgãos abdominais), varizes (veias dilatadas e deformadas, de coloração púrpuro-azulada, que surgem ao longo das pernas e podem causar dor e inchaço). Possíveis tratamentos também são descritos, o que inclui uso ou não de antivirais e esteroides (este último possivelmente se referindo ao uso de anti-inflamatórios esteroides). Outros fatores importantes descritos na base de dados são os resultados de exames laboratoriais que podem ser importantes no diagnóstico de hepatite, como bilirrubina, fosfatase alcalina, aspartato transaminase (AST), também chamada de transaminase glutâmica oxalacética sérica (SGOT ou TGO), albumina, tempo de protrombina (aqui nomeado PROTIME) e histologia (análise das células do fígado através de biópsia). Por fim, a base de dados apresenta quantos desses pacientes sobreviveram ou não. \n"
   ]
  },
  {
   "cell_type": "markdown",
   "metadata": {},
   "source": [
    "# Importe todas as bibliotecas necessárias"
   ]
  },
  {
   "cell_type": "code",
   "execution_count": 1,
   "metadata": {},
   "outputs": [],
   "source": [
    "import pandas as pd\n",
    "import numpy as np\n",
    "import seaborn as sns\n",
    "import matplotlib.pyplot as plt\n",
    "from scipy import stats\n",
    "from sklearn.preprocessing import MaxAbsScaler\n",
    "from sklearn.model_selection import train_test_split\n",
    "from sklearn.neighbors import KNeighborsClassifier\n",
    "from sklearn.tree import DecisionTreeClassifier\n",
    "from sklearn.metrics import accuracy_score\n",
    "from sklearn.metrics import confusion_matrix\n",
    "from sklearn.ensemble import RandomForestClassifier\n",
    "from sklearn.ensemble import AdaBoostClassifier\n",
    "from sklearn.linear_model import LogisticRegression\n",
    "from sklearn.metrics import roc_curve\n",
    "from sklearn.metrics import auc"
   ]
  },
  {
   "cell_type": "markdown",
   "metadata": {},
   "source": [
    "# Carregando os dados\n",
    "Abaixo, carregue os seus dados usando o *pandas* e realize as operações necessárias para limpar os dados. Também, verifique se os tipos de dados são adequados para as suas análises posteriores."
   ]
  },
  {
   "cell_type": "code",
   "execution_count": 2,
   "metadata": {},
   "outputs": [],
   "source": [
    "# carregue os dados aqui\n",
    "df = pd.read_csv('datasets_projeto_csv/datasets_projeto_csv/BNG_hepatitis.csv')"
   ]
  },
  {
   "cell_type": "code",
   "execution_count": 3,
   "metadata": {},
   "outputs": [],
   "source": [
    "df = df.sample(frac=0.01, random_state=1)"
   ]
  },
  {
   "cell_type": "code",
   "execution_count": 4,
   "metadata": {},
   "outputs": [
    {
     "name": "stdout",
     "output_type": "stream",
     "text": [
      "<class 'pandas.core.frame.DataFrame'>\n",
      "Int64Index: 10000 entries, 276826 to 175434\n",
      "Data columns (total 20 columns):\n",
      " #   Column           Non-Null Count  Dtype  \n",
      "---  ------           --------------  -----  \n",
      " 0   AGE              10000 non-null  float64\n",
      " 1   SEX              10000 non-null  object \n",
      " 2   STEROID          10000 non-null  object \n",
      " 3   ANTIVIRALS       10000 non-null  object \n",
      " 4   FATIGUE          10000 non-null  object \n",
      " 5   MALAISE          10000 non-null  object \n",
      " 6   ANOREXIA         10000 non-null  object \n",
      " 7   LIVER_BIG        10000 non-null  object \n",
      " 8   LIVER_FIRM       10000 non-null  object \n",
      " 9   SPLEEN_PALPABLE  10000 non-null  object \n",
      " 10  SPIDERS          10000 non-null  object \n",
      " 11  ASCITES          10000 non-null  object \n",
      " 12  VARICES          10000 non-null  object \n",
      " 13  BILIRUBIN        10000 non-null  float64\n",
      " 14  ALK_PHOSPHATE    10000 non-null  float64\n",
      " 15  SGOT             10000 non-null  float64\n",
      " 16  ALBUMIN          10000 non-null  float64\n",
      " 17  PROTIME          10000 non-null  float64\n",
      " 18  HISTOLOGY        10000 non-null  object \n",
      " 19  Class            10000 non-null  object \n",
      "dtypes: float64(6), object(14)\n",
      "memory usage: 1.6+ MB\n"
     ]
    }
   ],
   "source": [
    "df.info()"
   ]
  },
  {
   "cell_type": "code",
   "execution_count": 5,
   "metadata": {},
   "outputs": [
    {
     "data": {
      "text/html": [
       "<div>\n",
       "<style scoped>\n",
       "    .dataframe tbody tr th:only-of-type {\n",
       "        vertical-align: middle;\n",
       "    }\n",
       "\n",
       "    .dataframe tbody tr th {\n",
       "        vertical-align: top;\n",
       "    }\n",
       "\n",
       "    .dataframe thead th {\n",
       "        text-align: right;\n",
       "    }\n",
       "</style>\n",
       "<table border=\"1\" class=\"dataframe\">\n",
       "  <thead>\n",
       "    <tr style=\"text-align: right;\">\n",
       "      <th></th>\n",
       "      <th>AGE</th>\n",
       "      <th>SEX</th>\n",
       "      <th>STEROID</th>\n",
       "      <th>ANTIVIRALS</th>\n",
       "      <th>FATIGUE</th>\n",
       "      <th>MALAISE</th>\n",
       "      <th>ANOREXIA</th>\n",
       "      <th>LIVER_BIG</th>\n",
       "      <th>LIVER_FIRM</th>\n",
       "      <th>SPLEEN_PALPABLE</th>\n",
       "      <th>SPIDERS</th>\n",
       "      <th>ASCITES</th>\n",
       "      <th>VARICES</th>\n",
       "      <th>BILIRUBIN</th>\n",
       "      <th>ALK_PHOSPHATE</th>\n",
       "      <th>SGOT</th>\n",
       "      <th>ALBUMIN</th>\n",
       "      <th>PROTIME</th>\n",
       "      <th>HISTOLOGY</th>\n",
       "      <th>Class</th>\n",
       "    </tr>\n",
       "  </thead>\n",
       "  <tbody>\n",
       "    <tr>\n",
       "      <th>276826</th>\n",
       "      <td>51.021637</td>\n",
       "      <td>female</td>\n",
       "      <td>no</td>\n",
       "      <td>no</td>\n",
       "      <td>yes</td>\n",
       "      <td>no</td>\n",
       "      <td>no</td>\n",
       "      <td>yes</td>\n",
       "      <td>no</td>\n",
       "      <td>yes</td>\n",
       "      <td>yes</td>\n",
       "      <td>yes</td>\n",
       "      <td>yes</td>\n",
       "      <td>5.185160</td>\n",
       "      <td>87.396654</td>\n",
       "      <td>73.834579</td>\n",
       "      <td>3.678289</td>\n",
       "      <td>32.699447</td>\n",
       "      <td>yes</td>\n",
       "      <td>DIE</td>\n",
       "    </tr>\n",
       "    <tr>\n",
       "      <th>849425</th>\n",
       "      <td>48.678283</td>\n",
       "      <td>female</td>\n",
       "      <td>yes</td>\n",
       "      <td>no</td>\n",
       "      <td>yes</td>\n",
       "      <td>no</td>\n",
       "      <td>no</td>\n",
       "      <td>yes</td>\n",
       "      <td>no</td>\n",
       "      <td>no</td>\n",
       "      <td>no</td>\n",
       "      <td>no</td>\n",
       "      <td>no</td>\n",
       "      <td>0.643706</td>\n",
       "      <td>86.255362</td>\n",
       "      <td>64.186930</td>\n",
       "      <td>4.216774</td>\n",
       "      <td>57.257385</td>\n",
       "      <td>yes</td>\n",
       "      <td>LIVE</td>\n",
       "    </tr>\n",
       "    <tr>\n",
       "      <th>504499</th>\n",
       "      <td>38.361577</td>\n",
       "      <td>female</td>\n",
       "      <td>no</td>\n",
       "      <td>no</td>\n",
       "      <td>yes</td>\n",
       "      <td>yes</td>\n",
       "      <td>yes</td>\n",
       "      <td>yes</td>\n",
       "      <td>no</td>\n",
       "      <td>no</td>\n",
       "      <td>yes</td>\n",
       "      <td>no</td>\n",
       "      <td>no</td>\n",
       "      <td>6.824581</td>\n",
       "      <td>77.496402</td>\n",
       "      <td>22.732428</td>\n",
       "      <td>4.034230</td>\n",
       "      <td>78.724236</td>\n",
       "      <td>no</td>\n",
       "      <td>DIE</td>\n",
       "    </tr>\n",
       "    <tr>\n",
       "      <th>601054</th>\n",
       "      <td>45.456802</td>\n",
       "      <td>male</td>\n",
       "      <td>no</td>\n",
       "      <td>no</td>\n",
       "      <td>no</td>\n",
       "      <td>no</td>\n",
       "      <td>no</td>\n",
       "      <td>yes</td>\n",
       "      <td>yes</td>\n",
       "      <td>no</td>\n",
       "      <td>no</td>\n",
       "      <td>no</td>\n",
       "      <td>no</td>\n",
       "      <td>0.557364</td>\n",
       "      <td>81.151737</td>\n",
       "      <td>99.561217</td>\n",
       "      <td>3.335005</td>\n",
       "      <td>25.879596</td>\n",
       "      <td>no</td>\n",
       "      <td>LIVE</td>\n",
       "    </tr>\n",
       "    <tr>\n",
       "      <th>980221</th>\n",
       "      <td>29.033731</td>\n",
       "      <td>female</td>\n",
       "      <td>yes</td>\n",
       "      <td>no</td>\n",
       "      <td>yes</td>\n",
       "      <td>no</td>\n",
       "      <td>no</td>\n",
       "      <td>yes</td>\n",
       "      <td>yes</td>\n",
       "      <td>no</td>\n",
       "      <td>no</td>\n",
       "      <td>yes</td>\n",
       "      <td>no</td>\n",
       "      <td>0.576757</td>\n",
       "      <td>85.930826</td>\n",
       "      <td>278.008937</td>\n",
       "      <td>4.155596</td>\n",
       "      <td>38.642044</td>\n",
       "      <td>yes</td>\n",
       "      <td>LIVE</td>\n",
       "    </tr>\n",
       "  </tbody>\n",
       "</table>\n",
       "</div>"
      ],
      "text/plain": [
       "              AGE     SEX STEROID ANTIVIRALS FATIGUE MALAISE ANOREXIA  \\\n",
       "276826  51.021637  female      no         no     yes      no       no   \n",
       "849425  48.678283  female     yes         no     yes      no       no   \n",
       "504499  38.361577  female      no         no     yes     yes      yes   \n",
       "601054  45.456802    male      no         no      no      no       no   \n",
       "980221  29.033731  female     yes         no     yes      no       no   \n",
       "\n",
       "       LIVER_BIG LIVER_FIRM SPLEEN_PALPABLE SPIDERS ASCITES VARICES  \\\n",
       "276826       yes         no             yes     yes     yes     yes   \n",
       "849425       yes         no              no      no      no      no   \n",
       "504499       yes         no              no     yes      no      no   \n",
       "601054       yes        yes              no      no      no      no   \n",
       "980221       yes        yes              no      no     yes      no   \n",
       "\n",
       "        BILIRUBIN  ALK_PHOSPHATE        SGOT   ALBUMIN    PROTIME HISTOLOGY  \\\n",
       "276826   5.185160      87.396654   73.834579  3.678289  32.699447       yes   \n",
       "849425   0.643706      86.255362   64.186930  4.216774  57.257385       yes   \n",
       "504499   6.824581      77.496402   22.732428  4.034230  78.724236        no   \n",
       "601054   0.557364      81.151737   99.561217  3.335005  25.879596        no   \n",
       "980221   0.576757      85.930826  278.008937  4.155596  38.642044       yes   \n",
       "\n",
       "       Class  \n",
       "276826   DIE  \n",
       "849425  LIVE  \n",
       "504499   DIE  \n",
       "601054  LIVE  \n",
       "980221  LIVE  "
      ]
     },
     "execution_count": 5,
     "metadata": {},
     "output_type": "execute_result"
    }
   ],
   "source": [
    "df.head(5)"
   ]
  },
  {
   "cell_type": "code",
   "execution_count": 6,
   "metadata": {},
   "outputs": [
    {
     "data": {
      "text/html": [
       "<div>\n",
       "<style scoped>\n",
       "    .dataframe tbody tr th:only-of-type {\n",
       "        vertical-align: middle;\n",
       "    }\n",
       "\n",
       "    .dataframe tbody tr th {\n",
       "        vertical-align: top;\n",
       "    }\n",
       "\n",
       "    .dataframe thead th {\n",
       "        text-align: right;\n",
       "    }\n",
       "</style>\n",
       "<table border=\"1\" class=\"dataframe\">\n",
       "  <thead>\n",
       "    <tr style=\"text-align: right;\">\n",
       "      <th></th>\n",
       "      <th>AGE</th>\n",
       "      <th>SEX</th>\n",
       "      <th>STEROID</th>\n",
       "      <th>ANTIVIRALS</th>\n",
       "      <th>FATIGUE</th>\n",
       "      <th>MALAISE</th>\n",
       "      <th>ANOREXIA</th>\n",
       "      <th>LIVER_BIG</th>\n",
       "      <th>LIVER_FIRM</th>\n",
       "      <th>SPLEEN_PALPABLE</th>\n",
       "      <th>SPIDERS</th>\n",
       "      <th>ASCITES</th>\n",
       "      <th>VARICES</th>\n",
       "      <th>BILIRUBIN</th>\n",
       "      <th>ALK_PHOSPHATE</th>\n",
       "      <th>SGOT</th>\n",
       "      <th>ALBUMIN</th>\n",
       "      <th>PROTIME</th>\n",
       "      <th>HISTOLOGY</th>\n",
       "      <th>Class</th>\n",
       "    </tr>\n",
       "  </thead>\n",
       "  <tbody>\n",
       "    <tr>\n",
       "      <th>662322</th>\n",
       "      <td>32.137096</td>\n",
       "      <td>female</td>\n",
       "      <td>yes</td>\n",
       "      <td>no</td>\n",
       "      <td>yes</td>\n",
       "      <td>no</td>\n",
       "      <td>no</td>\n",
       "      <td>yes</td>\n",
       "      <td>no</td>\n",
       "      <td>no</td>\n",
       "      <td>no</td>\n",
       "      <td>yes</td>\n",
       "      <td>no</td>\n",
       "      <td>5.560456</td>\n",
       "      <td>103.549903</td>\n",
       "      <td>65.106479</td>\n",
       "      <td>4.699833</td>\n",
       "      <td>11.412975</td>\n",
       "      <td>yes</td>\n",
       "      <td>LIVE</td>\n",
       "    </tr>\n",
       "    <tr>\n",
       "      <th>423063</th>\n",
       "      <td>59.350357</td>\n",
       "      <td>female</td>\n",
       "      <td>no</td>\n",
       "      <td>no</td>\n",
       "      <td>yes</td>\n",
       "      <td>no</td>\n",
       "      <td>no</td>\n",
       "      <td>yes</td>\n",
       "      <td>no</td>\n",
       "      <td>no</td>\n",
       "      <td>yes</td>\n",
       "      <td>no</td>\n",
       "      <td>no</td>\n",
       "      <td>0.434329</td>\n",
       "      <td>68.016868</td>\n",
       "      <td>173.679136</td>\n",
       "      <td>3.523148</td>\n",
       "      <td>29.824489</td>\n",
       "      <td>no</td>\n",
       "      <td>LIVE</td>\n",
       "    </tr>\n",
       "    <tr>\n",
       "      <th>610680</th>\n",
       "      <td>29.254426</td>\n",
       "      <td>female</td>\n",
       "      <td>no</td>\n",
       "      <td>no</td>\n",
       "      <td>no</td>\n",
       "      <td>no</td>\n",
       "      <td>no</td>\n",
       "      <td>yes</td>\n",
       "      <td>no</td>\n",
       "      <td>no</td>\n",
       "      <td>yes</td>\n",
       "      <td>no</td>\n",
       "      <td>no</td>\n",
       "      <td>5.344304</td>\n",
       "      <td>155.750395</td>\n",
       "      <td>19.205810</td>\n",
       "      <td>3.392475</td>\n",
       "      <td>101.113576</td>\n",
       "      <td>yes</td>\n",
       "      <td>DIE</td>\n",
       "    </tr>\n",
       "    <tr>\n",
       "      <th>639271</th>\n",
       "      <td>48.958449</td>\n",
       "      <td>female</td>\n",
       "      <td>no</td>\n",
       "      <td>no</td>\n",
       "      <td>yes</td>\n",
       "      <td>yes</td>\n",
       "      <td>yes</td>\n",
       "      <td>yes</td>\n",
       "      <td>no</td>\n",
       "      <td>yes</td>\n",
       "      <td>no</td>\n",
       "      <td>yes</td>\n",
       "      <td>no</td>\n",
       "      <td>1.376654</td>\n",
       "      <td>87.021196</td>\n",
       "      <td>80.629962</td>\n",
       "      <td>2.619140</td>\n",
       "      <td>25.515133</td>\n",
       "      <td>yes</td>\n",
       "      <td>DIE</td>\n",
       "    </tr>\n",
       "    <tr>\n",
       "      <th>175434</th>\n",
       "      <td>40.129208</td>\n",
       "      <td>female</td>\n",
       "      <td>no</td>\n",
       "      <td>yes</td>\n",
       "      <td>yes</td>\n",
       "      <td>no</td>\n",
       "      <td>no</td>\n",
       "      <td>no</td>\n",
       "      <td>yes</td>\n",
       "      <td>no</td>\n",
       "      <td>yes</td>\n",
       "      <td>no</td>\n",
       "      <td>no</td>\n",
       "      <td>0.827175</td>\n",
       "      <td>51.780201</td>\n",
       "      <td>38.224085</td>\n",
       "      <td>4.165674</td>\n",
       "      <td>69.219329</td>\n",
       "      <td>yes</td>\n",
       "      <td>LIVE</td>\n",
       "    </tr>\n",
       "  </tbody>\n",
       "</table>\n",
       "</div>"
      ],
      "text/plain": [
       "              AGE     SEX STEROID ANTIVIRALS FATIGUE MALAISE ANOREXIA  \\\n",
       "662322  32.137096  female     yes         no     yes      no       no   \n",
       "423063  59.350357  female      no         no     yes      no       no   \n",
       "610680  29.254426  female      no         no      no      no       no   \n",
       "639271  48.958449  female      no         no     yes     yes      yes   \n",
       "175434  40.129208  female      no        yes     yes      no       no   \n",
       "\n",
       "       LIVER_BIG LIVER_FIRM SPLEEN_PALPABLE SPIDERS ASCITES VARICES  \\\n",
       "662322       yes         no              no      no     yes      no   \n",
       "423063       yes         no              no     yes      no      no   \n",
       "610680       yes         no              no     yes      no      no   \n",
       "639271       yes         no             yes      no     yes      no   \n",
       "175434        no        yes              no     yes      no      no   \n",
       "\n",
       "        BILIRUBIN  ALK_PHOSPHATE        SGOT   ALBUMIN     PROTIME HISTOLOGY  \\\n",
       "662322   5.560456     103.549903   65.106479  4.699833   11.412975       yes   \n",
       "423063   0.434329      68.016868  173.679136  3.523148   29.824489        no   \n",
       "610680   5.344304     155.750395   19.205810  3.392475  101.113576       yes   \n",
       "639271   1.376654      87.021196   80.629962  2.619140   25.515133       yes   \n",
       "175434   0.827175      51.780201   38.224085  4.165674   69.219329       yes   \n",
       "\n",
       "       Class  \n",
       "662322  LIVE  \n",
       "423063  LIVE  \n",
       "610680   DIE  \n",
       "639271   DIE  \n",
       "175434  LIVE  "
      ]
     },
     "execution_count": 6,
     "metadata": {},
     "output_type": "execute_result"
    }
   ],
   "source": [
    "df.tail(5)"
   ]
  },
  {
   "cell_type": "code",
   "execution_count": 7,
   "metadata": {},
   "outputs": [
    {
     "data": {
      "text/html": [
       "<div>\n",
       "<style scoped>\n",
       "    .dataframe tbody tr th:only-of-type {\n",
       "        vertical-align: middle;\n",
       "    }\n",
       "\n",
       "    .dataframe tbody tr th {\n",
       "        vertical-align: top;\n",
       "    }\n",
       "\n",
       "    .dataframe thead th {\n",
       "        text-align: right;\n",
       "    }\n",
       "</style>\n",
       "<table border=\"1\" class=\"dataframe\">\n",
       "  <thead>\n",
       "    <tr style=\"text-align: right;\">\n",
       "      <th></th>\n",
       "      <th>AGE</th>\n",
       "      <th>BILIRUBIN</th>\n",
       "      <th>ALK_PHOSPHATE</th>\n",
       "      <th>SGOT</th>\n",
       "      <th>ALBUMIN</th>\n",
       "      <th>PROTIME</th>\n",
       "    </tr>\n",
       "  </thead>\n",
       "  <tbody>\n",
       "    <tr>\n",
       "      <th>count</th>\n",
       "      <td>10000.000000</td>\n",
       "      <td>10000.000000</td>\n",
       "      <td>10000.000000</td>\n",
       "      <td>10000.000000</td>\n",
       "      <td>10000.000000</td>\n",
       "      <td>10000.000000</td>\n",
       "    </tr>\n",
       "    <tr>\n",
       "      <th>mean</th>\n",
       "      <td>41.027778</td>\n",
       "      <td>1.407961</td>\n",
       "      <td>106.047475</td>\n",
       "      <td>85.821981</td>\n",
       "      <td>3.843545</td>\n",
       "      <td>49.735633</td>\n",
       "    </tr>\n",
       "    <tr>\n",
       "      <th>std</th>\n",
       "      <td>12.576758</td>\n",
       "      <td>1.226249</td>\n",
       "      <td>46.750229</td>\n",
       "      <td>89.604111</td>\n",
       "      <td>0.617049</td>\n",
       "      <td>24.001889</td>\n",
       "    </tr>\n",
       "    <tr>\n",
       "      <th>min</th>\n",
       "      <td>11.808698</td>\n",
       "      <td>-1.756036</td>\n",
       "      <td>9.888678</td>\n",
       "      <td>-147.298419</td>\n",
       "      <td>1.988564</td>\n",
       "      <td>-5.721030</td>\n",
       "    </tr>\n",
       "    <tr>\n",
       "      <th>25%</th>\n",
       "      <td>32.625731</td>\n",
       "      <td>0.731080</td>\n",
       "      <td>76.318384</td>\n",
       "      <td>34.415188</td>\n",
       "      <td>3.541563</td>\n",
       "      <td>30.757343</td>\n",
       "    </tr>\n",
       "    <tr>\n",
       "      <th>50%</th>\n",
       "      <td>39.558846</td>\n",
       "      <td>1.000000</td>\n",
       "      <td>92.262814</td>\n",
       "      <td>56.388991</td>\n",
       "      <td>3.969377</td>\n",
       "      <td>44.589585</td>\n",
       "    </tr>\n",
       "    <tr>\n",
       "      <th>75%</th>\n",
       "      <td>49.377486</td>\n",
       "      <td>1.427950</td>\n",
       "      <td>125.653774</td>\n",
       "      <td>92.924890</td>\n",
       "      <td>4.165449</td>\n",
       "      <td>65.519327</td>\n",
       "    </tr>\n",
       "    <tr>\n",
       "      <th>max</th>\n",
       "      <td>86.042014</td>\n",
       "      <td>8.746939</td>\n",
       "      <td>358.515678</td>\n",
       "      <td>616.827595</td>\n",
       "      <td>6.497245</td>\n",
       "      <td>116.295126</td>\n",
       "    </tr>\n",
       "  </tbody>\n",
       "</table>\n",
       "</div>"
      ],
      "text/plain": [
       "                AGE     BILIRUBIN  ALK_PHOSPHATE          SGOT       ALBUMIN  \\\n",
       "count  10000.000000  10000.000000   10000.000000  10000.000000  10000.000000   \n",
       "mean      41.027778      1.407961     106.047475     85.821981      3.843545   \n",
       "std       12.576758      1.226249      46.750229     89.604111      0.617049   \n",
       "min       11.808698     -1.756036       9.888678   -147.298419      1.988564   \n",
       "25%       32.625731      0.731080      76.318384     34.415188      3.541563   \n",
       "50%       39.558846      1.000000      92.262814     56.388991      3.969377   \n",
       "75%       49.377486      1.427950     125.653774     92.924890      4.165449   \n",
       "max       86.042014      8.746939     358.515678    616.827595      6.497245   \n",
       "\n",
       "            PROTIME  \n",
       "count  10000.000000  \n",
       "mean      49.735633  \n",
       "std       24.001889  \n",
       "min       -5.721030  \n",
       "25%       30.757343  \n",
       "50%       44.589585  \n",
       "75%       65.519327  \n",
       "max      116.295126  "
      ]
     },
     "execution_count": 7,
     "metadata": {},
     "output_type": "execute_result"
    }
   ],
   "source": [
    "df.describe()"
   ]
  },
  {
   "cell_type": "code",
   "execution_count": 8,
   "metadata": {},
   "outputs": [
    {
     "data": {
      "text/plain": [
       "Index(['AGE', 'SEX', 'STEROID', 'ANTIVIRALS', 'FATIGUE', 'MALAISE', 'ANOREXIA',\n",
       "       'LIVER_BIG', 'LIVER_FIRM', 'SPLEEN_PALPABLE', 'SPIDERS', 'ASCITES',\n",
       "       'VARICES', 'BILIRUBIN', 'ALK_PHOSPHATE', 'SGOT', 'ALBUMIN', 'PROTIME',\n",
       "       'HISTOLOGY', 'Class'],\n",
       "      dtype='object')"
      ]
     },
     "execution_count": 8,
     "metadata": {},
     "output_type": "execute_result"
    }
   ],
   "source": [
    "df.columns"
   ]
  },
  {
   "cell_type": "code",
   "execution_count": 9,
   "metadata": {},
   "outputs": [
    {
     "data": {
      "text/plain": [
       "<bound method DataFrame.count of               AGE     SEX STEROID ANTIVIRALS FATIGUE MALAISE ANOREXIA  \\\n",
       "276826  51.021637  female      no         no     yes      no       no   \n",
       "849425  48.678283  female     yes         no     yes      no       no   \n",
       "504499  38.361577  female      no         no     yes     yes      yes   \n",
       "601054  45.456802    male      no         no      no      no       no   \n",
       "980221  29.033731  female     yes         no     yes      no       no   \n",
       "...           ...     ...     ...        ...     ...     ...      ...   \n",
       "662322  32.137096  female     yes         no     yes      no       no   \n",
       "423063  59.350357  female      no         no     yes      no       no   \n",
       "610680  29.254426  female      no         no      no      no       no   \n",
       "639271  48.958449  female      no         no     yes     yes      yes   \n",
       "175434  40.129208  female      no        yes     yes      no       no   \n",
       "\n",
       "       LIVER_BIG LIVER_FIRM SPLEEN_PALPABLE SPIDERS ASCITES VARICES  \\\n",
       "276826       yes         no             yes     yes     yes     yes   \n",
       "849425       yes         no              no      no      no      no   \n",
       "504499       yes         no              no     yes      no      no   \n",
       "601054       yes        yes              no      no      no      no   \n",
       "980221       yes        yes              no      no     yes      no   \n",
       "...          ...        ...             ...     ...     ...     ...   \n",
       "662322       yes         no              no      no     yes      no   \n",
       "423063       yes         no              no     yes      no      no   \n",
       "610680       yes         no              no     yes      no      no   \n",
       "639271       yes         no             yes      no     yes      no   \n",
       "175434        no        yes              no     yes      no      no   \n",
       "\n",
       "        BILIRUBIN  ALK_PHOSPHATE        SGOT   ALBUMIN     PROTIME HISTOLOGY  \\\n",
       "276826   5.185160      87.396654   73.834579  3.678289   32.699447       yes   \n",
       "849425   0.643706      86.255362   64.186930  4.216774   57.257385       yes   \n",
       "504499   6.824581      77.496402   22.732428  4.034230   78.724236        no   \n",
       "601054   0.557364      81.151737   99.561217  3.335005   25.879596        no   \n",
       "980221   0.576757      85.930826  278.008937  4.155596   38.642044       yes   \n",
       "...           ...            ...         ...       ...         ...       ...   \n",
       "662322   5.560456     103.549903   65.106479  4.699833   11.412975       yes   \n",
       "423063   0.434329      68.016868  173.679136  3.523148   29.824489        no   \n",
       "610680   5.344304     155.750395   19.205810  3.392475  101.113576       yes   \n",
       "639271   1.376654      87.021196   80.629962  2.619140   25.515133       yes   \n",
       "175434   0.827175      51.780201   38.224085  4.165674   69.219329       yes   \n",
       "\n",
       "       Class  \n",
       "276826   DIE  \n",
       "849425  LIVE  \n",
       "504499   DIE  \n",
       "601054  LIVE  \n",
       "980221  LIVE  \n",
       "...      ...  \n",
       "662322  LIVE  \n",
       "423063  LIVE  \n",
       "610680   DIE  \n",
       "639271   DIE  \n",
       "175434  LIVE  \n",
       "\n",
       "[10000 rows x 20 columns]>"
      ]
     },
     "execution_count": 9,
     "metadata": {},
     "output_type": "execute_result"
    }
   ],
   "source": [
    "df.count"
   ]
  },
  {
   "cell_type": "code",
   "execution_count": 10,
   "metadata": {},
   "outputs": [],
   "source": [
    "#Retirar dados negativos\n",
    "dfBneg = df[df['BILIRUBIN'] < 0]\n",
    "dfSneg = df[df['SGOT'] <0] \n",
    "dfPneg = df[df['PROTIME'] < 0]"
   ]
  },
  {
   "cell_type": "code",
   "execution_count": 11,
   "metadata": {},
   "outputs": [],
   "source": [
    "df.drop(dfBneg.index, inplace = True)"
   ]
  },
  {
   "cell_type": "code",
   "execution_count": 12,
   "metadata": {},
   "outputs": [],
   "source": [
    "df.drop(dfSneg.index, inplace = True)"
   ]
  },
  {
   "cell_type": "code",
   "execution_count": 13,
   "metadata": {},
   "outputs": [],
   "source": [
    "df.drop(dfPneg.index, inplace = True)"
   ]
  },
  {
   "cell_type": "code",
   "execution_count": 14,
   "metadata": {},
   "outputs": [
    {
     "data": {
      "text/html": [
       "<div>\n",
       "<style scoped>\n",
       "    .dataframe tbody tr th:only-of-type {\n",
       "        vertical-align: middle;\n",
       "    }\n",
       "\n",
       "    .dataframe tbody tr th {\n",
       "        vertical-align: top;\n",
       "    }\n",
       "\n",
       "    .dataframe thead th {\n",
       "        text-align: right;\n",
       "    }\n",
       "</style>\n",
       "<table border=\"1\" class=\"dataframe\">\n",
       "  <thead>\n",
       "    <tr style=\"text-align: right;\">\n",
       "      <th></th>\n",
       "      <th>AGE</th>\n",
       "      <th>BILIRUBIN</th>\n",
       "      <th>ALK_PHOSPHATE</th>\n",
       "      <th>SGOT</th>\n",
       "      <th>ALBUMIN</th>\n",
       "      <th>PROTIME</th>\n",
       "    </tr>\n",
       "  </thead>\n",
       "  <tbody>\n",
       "    <tr>\n",
       "      <th>count</th>\n",
       "      <td>9911.000000</td>\n",
       "      <td>9911.000000</td>\n",
       "      <td>9911.000000</td>\n",
       "      <td>9911.000000</td>\n",
       "      <td>9911.000000</td>\n",
       "      <td>9911.000000</td>\n",
       "    </tr>\n",
       "    <tr>\n",
       "      <th>mean</th>\n",
       "      <td>41.015899</td>\n",
       "      <td>1.414304</td>\n",
       "      <td>106.057748</td>\n",
       "      <td>86.647612</td>\n",
       "      <td>3.843760</td>\n",
       "      <td>49.767165</td>\n",
       "    </tr>\n",
       "    <tr>\n",
       "      <th>std</th>\n",
       "      <td>12.574204</td>\n",
       "      <td>1.223483</td>\n",
       "      <td>46.753117</td>\n",
       "      <td>89.355272</td>\n",
       "      <td>0.616596</td>\n",
       "      <td>24.004778</td>\n",
       "    </tr>\n",
       "    <tr>\n",
       "      <th>min</th>\n",
       "      <td>11.808698</td>\n",
       "      <td>0.016537</td>\n",
       "      <td>9.888678</td>\n",
       "      <td>0.661823</td>\n",
       "      <td>1.988564</td>\n",
       "      <td>0.515152</td>\n",
       "    </tr>\n",
       "    <tr>\n",
       "      <th>25%</th>\n",
       "      <td>32.640350</td>\n",
       "      <td>0.733758</td>\n",
       "      <td>76.331775</td>\n",
       "      <td>34.756728</td>\n",
       "      <td>3.542434</td>\n",
       "      <td>30.754247</td>\n",
       "    </tr>\n",
       "    <tr>\n",
       "      <th>50%</th>\n",
       "      <td>39.538194</td>\n",
       "      <td>1.000000</td>\n",
       "      <td>92.282663</td>\n",
       "      <td>56.525672</td>\n",
       "      <td>3.969324</td>\n",
       "      <td>44.575284</td>\n",
       "    </tr>\n",
       "    <tr>\n",
       "      <th>75%</th>\n",
       "      <td>49.370920</td>\n",
       "      <td>1.429377</td>\n",
       "      <td>125.677268</td>\n",
       "      <td>93.468142</td>\n",
       "      <td>4.165417</td>\n",
       "      <td>65.534808</td>\n",
       "    </tr>\n",
       "    <tr>\n",
       "      <th>max</th>\n",
       "      <td>86.042014</td>\n",
       "      <td>8.746939</td>\n",
       "      <td>358.515678</td>\n",
       "      <td>616.827595</td>\n",
       "      <td>6.497245</td>\n",
       "      <td>116.295126</td>\n",
       "    </tr>\n",
       "  </tbody>\n",
       "</table>\n",
       "</div>"
      ],
      "text/plain": [
       "               AGE    BILIRUBIN  ALK_PHOSPHATE         SGOT      ALBUMIN  \\\n",
       "count  9911.000000  9911.000000    9911.000000  9911.000000  9911.000000   \n",
       "mean     41.015899     1.414304     106.057748    86.647612     3.843760   \n",
       "std      12.574204     1.223483      46.753117    89.355272     0.616596   \n",
       "min      11.808698     0.016537       9.888678     0.661823     1.988564   \n",
       "25%      32.640350     0.733758      76.331775    34.756728     3.542434   \n",
       "50%      39.538194     1.000000      92.282663    56.525672     3.969324   \n",
       "75%      49.370920     1.429377     125.677268    93.468142     4.165417   \n",
       "max      86.042014     8.746939     358.515678   616.827595     6.497245   \n",
       "\n",
       "           PROTIME  \n",
       "count  9911.000000  \n",
       "mean     49.767165  \n",
       "std      24.004778  \n",
       "min       0.515152  \n",
       "25%      30.754247  \n",
       "50%      44.575284  \n",
       "75%      65.534808  \n",
       "max     116.295126  "
      ]
     },
     "execution_count": 14,
     "metadata": {},
     "output_type": "execute_result"
    }
   ],
   "source": [
    "#Para conferir que agora só temos dados acima de Zero\n",
    "\n",
    "df.describe()"
   ]
  },
  {
   "cell_type": "markdown",
   "metadata": {},
   "source": [
    "* Através da análise dos dados acima pudemos observar que não há dados faltantes a serem limpos, porém foi realizada a limpeza de dados laboratoriais negativos (que não fazem sentido no contexto de análises laboratoriais)"
   ]
  },
  {
   "cell_type": "markdown",
   "metadata": {},
   "source": [
    "# Análise univariadas\n",
    "\n",
    "Nesta seção você deverá apresentar uma análise univariada de dados que analise **ao menos 10 variáveis**. \n",
    "\n",
    "O objetivo é apresentar o comportamento das variáveis, principalmente no que tange sua distribuição.\n",
    "Para cada uma das 10 variáveis apresentadas, apresente, ao menos:\n",
    "* Média\n",
    "* Moda\n",
    "* Desvio padrão\n",
    "* Uma discussão sobre o viés da variável\n"
   ]
  },
  {
   "cell_type": "markdown",
   "metadata": {},
   "source": [
    "#### Variável 1: Idade"
   ]
  },
  {
   "cell_type": "code",
   "execution_count": 15,
   "metadata": {},
   "outputs": [
    {
     "data": {
      "text/plain": [
       "41.01589945898483"
      ]
     },
     "execution_count": 15,
     "metadata": {},
     "output_type": "execute_result"
    }
   ],
   "source": [
    "# Média da idade\n",
    "df['AGE'].mean()"
   ]
  },
  {
   "cell_type": "code",
   "execution_count": 16,
   "metadata": {},
   "outputs": [
    {
     "data": {
      "text/plain": [
       "12.574203808259021"
      ]
     },
     "execution_count": 16,
     "metadata": {},
     "output_type": "execute_result"
    }
   ],
   "source": [
    "# Desvio padrão da idade\n",
    "df['AGE'].std()"
   ]
  },
  {
   "cell_type": "code",
   "execution_count": 17,
   "metadata": {},
   "outputs": [
    {
     "data": {
      "text/plain": [
       "39.538194"
      ]
     },
     "execution_count": 17,
     "metadata": {},
     "output_type": "execute_result"
    }
   ],
   "source": [
    "#Mediana da idade\n",
    "df['AGE'].median()"
   ]
  },
  {
   "cell_type": "code",
   "execution_count": 18,
   "metadata": {},
   "outputs": [
    {
     "data": {
      "text/plain": [
       "0       11.808698\n",
       "1       12.381289\n",
       "2       12.589791\n",
       "3       12.670104\n",
       "4       12.680529\n",
       "          ...    \n",
       "9906    78.623347\n",
       "9907    80.035636\n",
       "9908    80.706179\n",
       "9909    83.086216\n",
       "9910    86.042014\n",
       "Length: 9911, dtype: float64"
      ]
     },
     "execution_count": 18,
     "metadata": {},
     "output_type": "execute_result"
    }
   ],
   "source": [
    "#Moda da idade\n",
    "df['AGE'].mode()"
   ]
  },
  {
   "cell_type": "code",
   "execution_count": 200,
   "metadata": {},
   "outputs": [
    {
     "data": {
      "image/png": "[encoded data removed]",
      "text/plain": [
       "<Figure size 432x288 with 1 Axes>"
      ]
     },
     "metadata": {
      "needs_background": "light"
     },
     "output_type": "display_data"
    }
   ],
   "source": [
    "#Histograma de distribuição da Idade \n",
    "sns.distplot(df['AGE'], rug_kws={\"color\": \"g\"},\n",
    "\n",
    "                  kde_kws={\"color\": \"k\", \"lw\": 3, \"label\": \"KDE\"},\n",
    "\n",
    "                  hist_kws={\"histtype\": \"step\", \"linewidth\": 3,\n",
    "\n",
    "                            \"alpha\": 1, \"color\": \"blue\"})\n",
    "plt.title('Distribuição da Idade')\n",
    "plt.show()"
   ]
  },
  {
   "cell_type": "markdown",
   "metadata": {},
   "source": [
    "#### Idade\n",
    "A média da idade dos pacientes desse banco de dados, assim como o histograma distribuição de idade condizem com a distribuição da hepatite no Brasil e no mundo, sendo mais comum em pessoas entre 30-39 anos (Indiana Report of Infectious Diseases, 2001). A tendência é que com o envelhecimento populacional a distribuição também seja arrastada para idades mais avançadas.\n",
    "\n"
   ]
  },
  {
   "cell_type": "code",
   "execution_count": 140,
   "metadata": {},
   "outputs": [
    {
     "data": {
      "text/plain": [
       "(41.20806547316955, 39.499942274439505)"
      ]
     },
     "execution_count": 140,
     "metadata": {},
     "output_type": "execute_result"
    }
   ],
   "source": [
    "#Filtro pra avaliar diferenças entre gêneros\n",
    "mask1 = df[df['SEX'] == 'female']\n",
    "mask2 = df[df['SEX'] == 'male']\n",
    "mask1['AGE'].mean(), mask2['AGE'].mean()"
   ]
  },
  {
   "cell_type": "code",
   "execution_count": 141,
   "metadata": {},
   "outputs": [
    {
     "data": {
      "text/plain": [
       "(12.571807636361555, 12.495458009294472)"
      ]
     },
     "execution_count": 141,
     "metadata": {},
     "output_type": "execute_result"
    }
   ],
   "source": [
    "mask1['AGE'].std(), mask2['AGE'].std()"
   ]
  },
  {
   "cell_type": "code",
   "execution_count": 198,
   "metadata": {
    "scrolled": true
   },
   "outputs": [
    {
     "data": {
      "image/png": "[encoded data removed]",
      "text/plain": [
       "<Figure size 432x288 with 1 Axes>"
      ]
     },
     "metadata": {
      "needs_background": "light"
     },
     "output_type": "display_data"
    }
   ],
   "source": [
    "sns.distplot(mask1['AGE'], rug_kws={\"color\": \"g\"},\n",
    "\n",
    "                  kde_kws={\"color\": \"k\", \"lw\": 3, \"label\": \"KDE\"},\n",
    "\n",
    "                  hist_kws={\"histtype\": \"step\", \"linewidth\": 3,\n",
    "\n",
    "                            \"alpha\": 1, \"color\": \"lightblue\"})\n",
    "plt.title('Distribuição da Idade entre as Mulheres')\n",
    "plt.show()"
   ]
  },
  {
   "cell_type": "code",
   "execution_count": 199,
   "metadata": {},
   "outputs": [
    {
     "data": {
      "image/png": "[encoded data removed]",
      "text/plain": [
       "<Figure size 432x288 with 1 Axes>"
      ]
     },
     "metadata": {
      "needs_background": "light"
     },
     "output_type": "display_data"
    }
   ],
   "source": [
    "sns.distplot(mask2['AGE'], rug_kws={\"color\": \"g\"},\n",
    "\n",
    "                  kde_kws={\"color\": \"k\", \"lw\": 3, \"label\": \"KDE\"},\n",
    "\n",
    "                  hist_kws={\"histtype\": \"step\", \"linewidth\": 3,\n",
    "\n",
    "                            \"alpha\": 1, \"color\": \"lightblue\"})\n",
    "plt.title('Distribuição da Idade entre os Homens')\n",
    "plt.show()"
   ]
  },
  {
   "cell_type": "markdown",
   "metadata": {},
   "source": [
    "#### Variável 2: Albumina"
   ]
  },
  {
   "cell_type": "code",
   "execution_count": 20,
   "metadata": {},
   "outputs": [
    {
     "data": {
      "text/plain": [
       "3.8437600369286793"
      ]
     },
     "execution_count": 20,
     "metadata": {},
     "output_type": "execute_result"
    }
   ],
   "source": [
    "# Média Albumina\n",
    "df['ALBUMIN'].mean()"
   ]
  },
  {
   "cell_type": "code",
   "execution_count": 21,
   "metadata": {},
   "outputs": [
    {
     "data": {
      "text/plain": [
       "0.6165959639240708"
      ]
     },
     "execution_count": 21,
     "metadata": {},
     "output_type": "execute_result"
    }
   ],
   "source": [
    "# Desvio padrão Albumina\n",
    "df['ALBUMIN'].std()"
   ]
  },
  {
   "cell_type": "code",
   "execution_count": 22,
   "metadata": {},
   "outputs": [
    {
     "data": {
      "text/plain": [
       "3.969324"
      ]
     },
     "execution_count": 22,
     "metadata": {},
     "output_type": "execute_result"
    }
   ],
   "source": [
    "#Mediana Albumina\n",
    "df['ALBUMIN'].median()"
   ]
  },
  {
   "cell_type": "code",
   "execution_count": 23,
   "metadata": {},
   "outputs": [
    {
     "data": {
      "text/plain": [
       "0     2.409192\n",
       "1     3.433527\n",
       "2     3.461587\n",
       "3     3.485456\n",
       "4     3.551820\n",
       "5     3.587863\n",
       "6     3.660382\n",
       "7     3.917753\n",
       "8     3.938104\n",
       "9     3.940630\n",
       "10    3.951069\n",
       "11    3.951392\n",
       "12    3.956724\n",
       "13    3.959038\n",
       "14    3.960213\n",
       "15    3.961069\n",
       "16    3.963948\n",
       "17    3.964590\n",
       "18    3.965442\n",
       "19    3.966629\n",
       "20    3.970607\n",
       "21    3.973763\n",
       "22    3.974630\n",
       "23    3.977014\n",
       "24    3.977153\n",
       "25    3.977511\n",
       "26    3.977856\n",
       "27    3.980467\n",
       "28    3.984691\n",
       "29    3.985775\n",
       "30    3.989295\n",
       "31    3.989713\n",
       "32    3.995581\n",
       "33    3.997247\n",
       "34    4.001346\n",
       "35    4.007550\n",
       "36    4.010523\n",
       "37    4.012921\n",
       "38    4.018759\n",
       "39    4.039654\n",
       "40    4.120216\n",
       "41    4.134030\n",
       "42    4.147135\n",
       "43    4.166090\n",
       "44    4.176542\n",
       "45    4.199668\n",
       "46    4.208190\n",
       "47    4.221452\n",
       "48    4.233000\n",
       "49    4.290094\n",
       "50    4.298030\n",
       "dtype: float64"
      ]
     },
     "execution_count": 23,
     "metadata": {},
     "output_type": "execute_result"
    }
   ],
   "source": [
    "#Moda Albumina\n",
    "df['ALBUMIN'].mode()"
   ]
  },
  {
   "cell_type": "code",
   "execution_count": 203,
   "metadata": {
    "scrolled": false
   },
   "outputs": [
    {
     "data": {
      "image/png": "[encoded data removed]",
      "text/plain": [
       "<Figure size 432x288 with 1 Axes>"
      ]
     },
     "metadata": {
      "needs_background": "light"
     },
     "output_type": "display_data"
    }
   ],
   "source": [
    "sns.boxplot(df['ALBUMIN'], palette='Purples_d')\n",
    "plt.show()"
   ]
  },
  {
   "cell_type": "markdown",
   "metadata": {},
   "source": [
    "#### Albumina\n",
    "A albumina é uma proteína produzida no fígado e é necessária para diversos processos no organismo, como transporte de hormônios e nutrientes e para regular o pH e manter o equilíbrio osmótico do organismo, o que acontece por meio da regulação da quantidade de água no sangue. O exame da albumina é solicitado pelo médico para avaliar o estado nutricional da pessoa e auxiliar o diagnóstico de doenças renais e do fígado. Os valores de referência para albumina a partir de 16 anos\tficam 3,5-4,7 g/dL. Os valores diminuídos de albumina no sangue também podem ser indicativos de problemas no fígado, em que há diminuição da produção dessa proteína.\n",
    "\n"
   ]
  },
  {
   "cell_type": "markdown",
   "metadata": {},
   "source": [
    "#### Variável 3: TGO"
   ]
  },
  {
   "cell_type": "code",
   "execution_count": 25,
   "metadata": {
    "scrolled": true
   },
   "outputs": [
    {
     "data": {
      "text/plain": [
       "86.64761200686118"
      ]
     },
     "execution_count": 25,
     "metadata": {},
     "output_type": "execute_result"
    }
   ],
   "source": [
    "# Média TGO\n",
    "df['SGOT'].mean()"
   ]
  },
  {
   "cell_type": "code",
   "execution_count": 26,
   "metadata": {},
   "outputs": [
    {
     "data": {
      "text/plain": [
       "89.3552716839993"
      ]
     },
     "execution_count": 26,
     "metadata": {},
     "output_type": "execute_result"
    }
   ],
   "source": [
    "# Desvio padrão TGO\n",
    "df['SGOT'].std()"
   ]
  },
  {
   "cell_type": "code",
   "execution_count": 27,
   "metadata": {},
   "outputs": [
    {
     "data": {
      "text/plain": [
       "56.525672"
      ]
     },
     "execution_count": 27,
     "metadata": {},
     "output_type": "execute_result"
    }
   ],
   "source": [
    "#Mediana TGO\n",
    "df['SGOT'].median()"
   ]
  },
  {
   "cell_type": "code",
   "execution_count": 28,
   "metadata": {},
   "outputs": [
    {
     "data": {
      "text/plain": [
       "0    96.02318\n",
       "dtype: float64"
      ]
     },
     "execution_count": 28,
     "metadata": {},
     "output_type": "execute_result"
    }
   ],
   "source": [
    "#Moda TGO\n",
    "df['SGOT'].mode()"
   ]
  },
  {
   "cell_type": "code",
   "execution_count": 204,
   "metadata": {},
   "outputs": [
    {
     "data": {
      "image/png": "[encoded data removed]",
      "text/plain": [
       "<Figure size 432x288 with 1 Axes>"
      ]
     },
     "metadata": {
      "needs_background": "light"
     },
     "output_type": "display_data"
    }
   ],
   "source": [
    "sns.boxplot(df['SGOT'], palette='Reds_d')\n",
    "plt.show()"
   ]
  },
  {
   "cell_type": "markdown",
   "metadata": {},
   "source": [
    "#### Aminotransferase de Aspartate (AST, TGO ou SGOT)\n",
    "AST é uma enzima normalmente contida dentro das células do fígado.  O nível normal de TGO é de 5 a 40 u/L no sangue e se o fígado estiver com algum problema, as células liberam esta enzima na corrente sanguínea, elevando os níveis destas enzimas no sangue e sinalizando um possível problema."
   ]
  },
  {
   "cell_type": "markdown",
   "metadata": {},
   "source": [
    "#### Variável 4: Bilirrubina"
   ]
  },
  {
   "cell_type": "code",
   "execution_count": 30,
   "metadata": {},
   "outputs": [
    {
     "data": {
      "text/plain": [
       "1.4143042593078372"
      ]
     },
     "execution_count": 30,
     "metadata": {},
     "output_type": "execute_result"
    }
   ],
   "source": [
    "# Média Bilirrubina\n",
    "df['BILIRUBIN'].mean()"
   ]
  },
  {
   "cell_type": "code",
   "execution_count": 31,
   "metadata": {},
   "outputs": [
    {
     "data": {
      "text/plain": [
       "1.223483378675713"
      ]
     },
     "execution_count": 31,
     "metadata": {},
     "output_type": "execute_result"
    }
   ],
   "source": [
    "# Desvio padrão Bilirrubina\n",
    "df['BILIRUBIN'].std()"
   ]
  },
  {
   "cell_type": "code",
   "execution_count": 32,
   "metadata": {},
   "outputs": [
    {
     "data": {
      "text/plain": [
       "1.0"
      ]
     },
     "execution_count": 32,
     "metadata": {},
     "output_type": "execute_result"
    }
   ],
   "source": [
    "#Mediana Bilirrubina\n",
    "df['BILIRUBIN'].median()"
   ]
  },
  {
   "cell_type": "code",
   "execution_count": 33,
   "metadata": {},
   "outputs": [
    {
     "data": {
      "text/plain": [
       "0    1.0\n",
       "dtype: float64"
      ]
     },
     "execution_count": 33,
     "metadata": {},
     "output_type": "execute_result"
    }
   ],
   "source": [
    "#Moda dBilirrubina\n",
    "df['BILIRUBIN'].mode()"
   ]
  },
  {
   "cell_type": "code",
   "execution_count": 205,
   "metadata": {
    "scrolled": true
   },
   "outputs": [
    {
     "data": {
      "image/png": "[encoded data removed]",
      "text/plain": [
       "<Figure size 432x288 with 1 Axes>"
      ]
     },
     "metadata": {
      "needs_background": "light"
     },
     "output_type": "display_data"
    }
   ],
   "source": [
    "sns.boxplot(df['BILIRUBIN'], palette= 'Greens_d')\n",
    "plt.show()"
   ]
  },
  {
   "cell_type": "markdown",
   "metadata": {},
   "source": [
    "#### Bilirrubina\n",
    "É um pigmento da bile produzido por quebra do heme e redução da biliverdina, que normalmente circula no plasma sanguíneo. É absorvido por células do fígado e conjugado de modo a formar diglucuronide, um pigmento solúvel em água excretada na bile. O exame de bilirrubina auxilia o diagnóstico de problemas no fígado, vias biliares ou anemia hemolítica e seus índices normais são até 1,2 mg/dL. O aumento da bilirrubina pode indicar hepatite viral, doença alcoólica do fígado, pedra nas vias biliares, tumores no fígado ou nas vias biliares, entre outras patologias.\n"
   ]
  },
  {
   "cell_type": "markdown",
   "metadata": {},
   "source": [
    "#### Variável 5: Fosfatase Alcalina"
   ]
  },
  {
   "cell_type": "code",
   "execution_count": 35,
   "metadata": {},
   "outputs": [
    {
     "data": {
      "text/plain": [
       "106.0577479078801"
      ]
     },
     "execution_count": 35,
     "metadata": {},
     "output_type": "execute_result"
    }
   ],
   "source": [
    "# Média Fosfatase Alcalina\n",
    "df['ALK_PHOSPHATE'].mean()"
   ]
  },
  {
   "cell_type": "code",
   "execution_count": 36,
   "metadata": {},
   "outputs": [
    {
     "data": {
      "text/plain": [
       "46.753117350612875"
      ]
     },
     "execution_count": 36,
     "metadata": {},
     "output_type": "execute_result"
    }
   ],
   "source": [
    "# Desvio padrão Fosfatase Alcalina\n",
    "df['ALK_PHOSPHATE'].std()"
   ]
  },
  {
   "cell_type": "code",
   "execution_count": 37,
   "metadata": {},
   "outputs": [
    {
     "data": {
      "text/plain": [
       "92.282663"
      ]
     },
     "execution_count": 37,
     "metadata": {},
     "output_type": "execute_result"
    }
   ],
   "source": [
    "#Mediana Fosfatase Alcalina\n",
    "df['ALK_PHOSPHATE'].median()"
   ]
  },
  {
   "cell_type": "code",
   "execution_count": 38,
   "metadata": {
    "scrolled": true
   },
   "outputs": [
    {
     "data": {
      "text/plain": [
       "0         9.888678\n",
       "1        13.252407\n",
       "2        20.767103\n",
       "3        21.343573\n",
       "4        22.412465\n",
       "           ...    \n",
       "9906    289.069619\n",
       "9907    293.077395\n",
       "9908    297.908202\n",
       "9909    313.239696\n",
       "9910    358.515678\n",
       "Length: 9911, dtype: float64"
      ]
     },
     "execution_count": 38,
     "metadata": {},
     "output_type": "execute_result"
    }
   ],
   "source": [
    "#Moda Fosfatase Alcalina\n",
    "df['ALK_PHOSPHATE'].mode()"
   ]
  },
  {
   "cell_type": "code",
   "execution_count": 206,
   "metadata": {
    "scrolled": true
   },
   "outputs": [
    {
     "data": {
      "image/png": "[encoded data removed]",
      "text/plain": [
       "<Figure size 432x288 with 1 Axes>"
      ]
     },
     "metadata": {
      "needs_background": "light"
     },
     "output_type": "display_data"
    }
   ],
   "source": [
    "sns.boxplot(df['ALK_PHOSPHATE'], palette='Oranges_d')\n",
    "plt.show()"
   ]
  },
  {
   "cell_type": "markdown",
   "metadata": {},
   "source": [
    "#### Fosfatase alcalina\n",
    "A fosfatase alcalina é uma enzima encontrada em diversos tecidos incluindo fígado, ossos, rins, intestino e placenta - mas as maiores concentrações de fosfatase alcalina estão no fígado e ossos. O exame de fosfatase alcalina mede os níveis dessa enzima no sangue e geralmente é pedido juntamente com outros exames que avaliam a função hepática, como TGO ou gama GT. OS valores de referência são ligeiramente distintos entre homens e mulheres, sendo para os homens: 40 a 129 U/L e para as mulheres: 35 a 104 U/L. O aumento da fosfatase alcalina pode significar problemas hepáticos, obstrução biliar, condições ósseas, tumores ósseos, hiperparatireoidismo, leucemia, raquitismo, entre outras.\n",
    "\n",
    "\n"
   ]
  },
  {
   "cell_type": "code",
   "execution_count": 144,
   "metadata": {},
   "outputs": [
    {
     "data": {
      "text/plain": [
       "(105.9119591692815, 107.20784453991043)"
      ]
     },
     "execution_count": 144,
     "metadata": {},
     "output_type": "execute_result"
    }
   ],
   "source": [
    "# mask1 = mulheres\n",
    "# mask2 = homens\n",
    "mask1['ALK_PHOSPHATE'].mean() , mask2['ALK_PHOSPHATE'].mean()"
   ]
  },
  {
   "cell_type": "code",
   "execution_count": 145,
   "metadata": {},
   "outputs": [
    {
     "data": {
      "text/plain": [
       "(46.61517415552553, 47.83312539217134)"
      ]
     },
     "execution_count": 145,
     "metadata": {},
     "output_type": "execute_result"
    }
   ],
   "source": [
    "mask1['ALK_PHOSPHATE'].std() , mask2['ALK_PHOSPHATE'].std()"
   ]
  },
  {
   "cell_type": "code",
   "execution_count": 211,
   "metadata": {},
   "outputs": [
    {
     "data": {
      "image/png": "[encoded data removed]",
      "text/plain": [
       "<Figure size 432x288 with 1 Axes>"
      ]
     },
     "metadata": {
      "needs_background": "light"
     },
     "output_type": "display_data"
    }
   ],
   "source": [
    "sns.boxplot(mask1['ALK_PHOSPHATE'], color= 'orange')\n",
    "plt.show()"
   ]
  },
  {
   "cell_type": "code",
   "execution_count": 212,
   "metadata": {
    "scrolled": true
   },
   "outputs": [
    {
     "data": {
      "image/png": "[encoded data removed]",
      "text/plain": [
       "<Figure size 432x288 with 1 Axes>"
      ]
     },
     "metadata": {
      "needs_background": "light"
     },
     "output_type": "display_data"
    }
   ],
   "source": [
    "sns.boxplot(mask2['ALK_PHOSPHATE'], color= 'orange')\n",
    "plt.show()"
   ]
  },
  {
   "cell_type": "markdown",
   "metadata": {},
   "source": [
    "Mesmo avaliando a variável separando os gêneros, não houve mudança significativa."
   ]
  },
  {
   "cell_type": "markdown",
   "metadata": {},
   "source": [
    "#### Variável 6: Tempo de Protrombina"
   ]
  },
  {
   "cell_type": "code",
   "execution_count": 40,
   "metadata": {
    "scrolled": true
   },
   "outputs": [
    {
     "data": {
      "text/plain": [
       "49.767164804964054"
      ]
     },
     "execution_count": 40,
     "metadata": {},
     "output_type": "execute_result"
    }
   ],
   "source": [
    "# Média Tempo de Protrombina\n",
    "df['PROTIME'].mean()"
   ]
  },
  {
   "cell_type": "code",
   "execution_count": 41,
   "metadata": {},
   "outputs": [
    {
     "data": {
      "text/plain": [
       "24.004777989259242"
      ]
     },
     "execution_count": 41,
     "metadata": {},
     "output_type": "execute_result"
    }
   ],
   "source": [
    "# Desvio padrão Tempo de Protrombina\n",
    "df['PROTIME'].std()"
   ]
  },
  {
   "cell_type": "code",
   "execution_count": 42,
   "metadata": {},
   "outputs": [
    {
     "data": {
      "text/plain": [
       "44.575284"
      ]
     },
     "execution_count": 42,
     "metadata": {},
     "output_type": "execute_result"
    }
   ],
   "source": [
    "#Mediana Tempo de Protrombina\n",
    "df['PROTIME'].median()"
   ]
  },
  {
   "cell_type": "code",
   "execution_count": 43,
   "metadata": {},
   "outputs": [
    {
     "data": {
      "text/plain": [
       "0    49.970259\n",
       "dtype: float64"
      ]
     },
     "execution_count": 43,
     "metadata": {},
     "output_type": "execute_result"
    }
   ],
   "source": [
    "#Moda Tempo de Protrombina\n",
    "df['PROTIME'].mode()"
   ]
  },
  {
   "cell_type": "code",
   "execution_count": 319,
   "metadata": {
    "scrolled": true
   },
   "outputs": [
    {
     "data": {
      "image/png": "[encoded data removed]",
      "text/plain": [
       "<Figure size 432x288 with 1 Axes>"
      ]
     },
     "metadata": {
      "needs_background": "light"
     },
     "output_type": "display_data"
    }
   ],
   "source": [
    "sns.boxplot(df['PROTIME'], palette='RdBu_d')\n",
    "plt.show()"
   ]
  },
  {
   "cell_type": "markdown",
   "metadata": {},
   "source": [
    "#### Tempo de Atividade da Protrombina (TP, TAP, PROTIME)\n",
    "A protrombina é formada no fígado, e para que sua síntese ocorra, é necessária a presença da vitamina K. O tempo de protrombina é um teste para avaliar a via extrínseca e a via comum da coagulação sanguínea e assim, o TP estará aumentado em casos de deficiência de fibrinogênio e de qualquer um dos fatores de coagulação, em pacientes que fazem uso de anticoagulantes, nas doenças hepáticas e deficiência de vitamina K, pois os fatores II, VII e X são dependentes desta vitamina. O valor de referência do TAP para uma pessoa saudável deve variar entre 10 e 14 segundos."
   ]
  },
  {
   "cell_type": "markdown",
   "metadata": {},
   "source": [
    "#### Representação das variáveis nominais"
   ]
  },
  {
   "cell_type": "code",
   "execution_count": 256,
   "metadata": {
    "scrolled": true
   },
   "outputs": [
    {
     "data": {
      "image/png": "[encoded data removed]",
      "text/plain": [
       "<Figure size 432x288 with 1 Axes>"
      ]
     },
     "metadata": {
      "needs_background": "light"
     },
     "output_type": "display_data"
    }
   ],
   "source": [
    "# Inicio plotando o gráfico da classe, pois parece ser a informação mais relevante e a que será prevista com os classificadores\n",
    "df['Class'].value_counts().plot.bar(edgecolor=\"black\")\n",
    "plt.xlabel('Mortalidade') \n",
    "plt.ylabel('Num total pacientes')\n",
    "plt.title('Qtd pacientes Vivos x Mortos')\n",
    "plt.show()"
   ]
  },
  {
   "cell_type": "code",
   "execution_count": 257,
   "metadata": {},
   "outputs": [
    {
     "data": {
      "image/png": "[encoded data removed]",
      "text/plain": [
       "<Figure size 432x288 with 1 Axes>"
      ]
     },
     "metadata": {
      "needs_background": "light"
     },
     "output_type": "display_data"
    }
   ],
   "source": [
    "df['SEX'].value_counts().plot.bar()\n",
    "plt.xlabel('Gênero') #legenda eixo x\n",
    "plt.ylabel('Num total pacientes') #legenda eixo y\n",
    "plt.title('Qtd de Mulheres e Homens')\n",
    "plt.show()"
   ]
  },
  {
   "cell_type": "code",
   "execution_count": 258,
   "metadata": {},
   "outputs": [
    {
     "data": {
      "image/png": "[encoded data removed]",
      "text/plain": [
       "<Figure size 432x288 with 1 Axes>"
      ]
     },
     "metadata": {
      "needs_background": "light"
     },
     "output_type": "display_data"
    }
   ],
   "source": [
    "df['STEROID'].value_counts().plot.bar()\n",
    "plt.xlabel('Esteroides') #legenda eixo x\n",
    "plt.ylabel('Num total pacientes') #legenda eixo y\n",
    "plt.title('Qtd de pacientes que realizaram tratamento com esteroides')\n",
    "plt.show()"
   ]
  },
  {
   "cell_type": "code",
   "execution_count": 259,
   "metadata": {},
   "outputs": [
    {
     "data": {
      "image/png": "[encoded data removed]",
      "text/plain": [
       "<Figure size 432x288 with 1 Axes>"
      ]
     },
     "metadata": {
      "needs_background": "light"
     },
     "output_type": "display_data"
    }
   ],
   "source": [
    "df['ANTIVIRALS'].value_counts().plot.bar()\n",
    "plt.xlabel('Antivirais') #legenda eixo x\n",
    "plt.ylabel('Num total pacientes') #legenda eixo y\n",
    "plt.title('Qtd de pacientes que realizaram tratamento com antivirais')\n",
    "plt.show()"
   ]
  },
  {
   "cell_type": "code",
   "execution_count": 260,
   "metadata": {},
   "outputs": [
    {
     "data": {
      "image/png": "[encoded data removed]",
      "text/plain": [
       "<Figure size 432x288 with 1 Axes>"
      ]
     },
     "metadata": {
      "needs_background": "light"
     },
     "output_type": "display_data"
    }
   ],
   "source": [
    "df['FATIGUE'].value_counts().plot.bar()\n",
    "plt.xlabel('Fadiga') #legenda eixo x\n",
    "plt.ylabel('Num total pacientes') #legenda eixo y\n",
    "plt.title('Qtd Sintomas de fadiga')\n",
    "plt.show()"
   ]
  },
  {
   "cell_type": "code",
   "execution_count": 255,
   "metadata": {},
   "outputs": [
    {
     "data": {
      "image/png": "[encoded data removed]",
      "text/plain": [
       "<Figure size 432x288 with 1 Axes>"
      ]
     },
     "metadata": {
      "needs_background": "light"
     },
     "output_type": "display_data"
    }
   ],
   "source": [
    "df['MALAISE'].value_counts().plot.bar()\n",
    "plt.xlabel('Mal-estar') #legenda eixo x\n",
    "plt.ylabel('Num total pacientes') #legenda eixo y\n",
    "plt.title('Qtd Sintomas de Mal-estar')\n",
    "plt.show()"
   ]
  },
  {
   "cell_type": "code",
   "execution_count": 261,
   "metadata": {},
   "outputs": [
    {
     "data": {
      "image/png": "[encoded data removed]",
      "text/plain": [
       "<Figure size 432x288 with 1 Axes>"
      ]
     },
     "metadata": {
      "needs_background": "light"
     },
     "output_type": "display_data"
    }
   ],
   "source": [
    "df['ANOREXIA'].value_counts().plot.bar()\n",
    "plt.xlabel('Anorexia') #legenda eixo x\n",
    "plt.ylabel('Num total pacientes') #legenda eixo y\n",
    "plt.title('Qtd Sintomas de Anorexia')\n",
    "plt.show()"
   ]
  },
  {
   "cell_type": "code",
   "execution_count": 262,
   "metadata": {},
   "outputs": [
    {
     "data": {
      "image/png": "[encoded data removed]",
      "text/plain": [
       "<Figure size 432x288 with 1 Axes>"
      ]
     },
     "metadata": {
      "needs_background": "light"
     },
     "output_type": "display_data"
    }
   ],
   "source": [
    "df['LIVER_BIG'].value_counts().plot.bar()\n",
    "plt.xlabel('Fígado aumentado') #legenda eixo x\n",
    "plt.ylabel('Num total pacientes') #legenda eixo y\n",
    "plt.title('Hepatomegalia')\n",
    "plt.show()"
   ]
  },
  {
   "cell_type": "code",
   "execution_count": 263,
   "metadata": {},
   "outputs": [
    {
     "data": {
      "image/png": "[encoded data removed]",
      "text/plain": [
       "<Figure size 432x288 with 1 Axes>"
      ]
     },
     "metadata": {
      "needs_background": "light"
     },
     "output_type": "display_data"
    }
   ],
   "source": [
    "df['LIVER_FIRM'].value_counts().plot.bar()\n",
    "plt.xlabel('Fígado firme') #legenda eixo x\n",
    "plt.ylabel('Num total pacientes') #legenda eixo y\n",
    "plt.title('Hepatomegalia')\n",
    "plt.show()"
   ]
  },
  {
   "cell_type": "code",
   "execution_count": 264,
   "metadata": {},
   "outputs": [
    {
     "data": {
      "image/png": "[encoded data removed]",
      "text/plain": [
       "<Figure size 432x288 with 1 Axes>"
      ]
     },
     "metadata": {
      "needs_background": "light"
     },
     "output_type": "display_data"
    }
   ],
   "source": [
    "df['SPLEEN_PALPABLE'].value_counts().plot.bar()\n",
    "plt.xlabel('Baço palpável') #legenda eixo x\n",
    "plt.ylabel('Num total pacientes') #legenda eixo y\n",
    "plt.title('Esplenomegalia')\n",
    "plt.show()"
   ]
  },
  {
   "cell_type": "code",
   "execution_count": 265,
   "metadata": {},
   "outputs": [
    {
     "data": {
      "image/png": "[encoded data removed]",
      "text/plain": [
       "<Figure size 432x288 with 1 Axes>"
      ]
     },
     "metadata": {
      "needs_background": "light"
     },
     "output_type": "display_data"
    }
   ],
   "source": [
    "df['SPIDERS'].value_counts().plot.bar()\n",
    "plt.xlabel('Aranhas vasculares') #legenda eixo x\n",
    "plt.ylabel('Num total pacientes') #legenda eixo y\n",
    "plt.title('Qtd aranhas vasculares')\n",
    "plt.show()"
   ]
  },
  {
   "cell_type": "code",
   "execution_count": 266,
   "metadata": {},
   "outputs": [
    {
     "data": {
      "image/png": "[encoded data removed]",
      "text/plain": [
       "<Figure size 432x288 with 1 Axes>"
      ]
     },
     "metadata": {
      "needs_background": "light"
     },
     "output_type": "display_data"
    }
   ],
   "source": [
    "df['ASCITES'].value_counts().plot.bar()\n",
    "plt.xlabel('Ascite') #legenda eixo x\n",
    "plt.ylabel('Num total pacientes') #legenda eixo y\n",
    "plt.title('Qtd Ascite')\n",
    "plt.show()"
   ]
  },
  {
   "cell_type": "code",
   "execution_count": 267,
   "metadata": {},
   "outputs": [
    {
     "data": {
      "image/png": "[encoded data removed]",
      "text/plain": [
       "<Figure size 432x288 with 1 Axes>"
      ]
     },
     "metadata": {
      "needs_background": "light"
     },
     "output_type": "display_data"
    }
   ],
   "source": [
    "df['VARICES'].value_counts().plot.bar()\n",
    "plt.xlabel('Varizes') #legenda eixo x\n",
    "plt.ylabel('Num total pacientes') #legenda eixo y\n",
    "plt.title('Qtd Varizes')\n",
    "plt.show()"
   ]
  },
  {
   "cell_type": "code",
   "execution_count": 268,
   "metadata": {},
   "outputs": [
    {
     "data": {
      "image/png": "[encoded data removed]",
      "text/plain": [
       "<Figure size 432x288 with 1 Axes>"
      ]
     },
     "metadata": {
      "needs_background": "light"
     },
     "output_type": "display_data"
    }
   ],
   "source": [
    "df['HISTOLOGY'].value_counts().plot.bar()\n",
    "plt.xlabel('Histologia') \n",
    "plt.ylabel('Num total pacientes') \n",
    "plt.title('Qtd Histologia')\n",
    "plt.show()"
   ]
  },
  {
   "cell_type": "markdown",
   "metadata": {},
   "source": [
    "# Análise multivariada de dados\n",
    "\n",
    "\n",
    "Nesta seção, você deve gerar ao menos 5 visualizações multivariadas. O objetivo aqui é descobrir relações e/ou correlações entre as variáveis do dataset.\n",
    "Naturalmente, haverão comportamentos óbvios que serão descobertos, então ao menos **UMA** das visualizações deve apresentar um *insight* não óbvio dos dados.\n",
    "\n",
    "\n",
    "### Dicas\n",
    "\n",
    "In this section, make sure you go beyond naive explorations. For instance, try PCA, t-SNE, and even other techniques we have not worked with during the lectures. The key here is to start to develop a critical mindset towards data analysis and our own work.\n",
    "\n",
    "### Importante\n",
    "\n",
    "**Todas** as variáveis usadas nesta etapa devem ter sido avaliadas na etapa de análise univariada."
   ]
  },
  {
   "cell_type": "markdown",
   "metadata": {},
   "source": [
    "#### Gênero x Classe"
   ]
  },
  {
   "cell_type": "code",
   "execution_count": 223,
   "metadata": {},
   "outputs": [
    {
     "data": {
      "image/png": "[encoded data removed]",
      "text/plain": [
       "<Figure size 432x288 with 1 Axes>"
      ]
     },
     "metadata": {
      "needs_background": "light"
     },
     "output_type": "display_data"
    }
   ],
   "source": [
    "#sobrevivência por gênero\n",
    "sns.countplot(df['Class'], hue=df['SEX'], palette='GnBu_d')\n",
    "plt.show()"
   ]
  },
  {
   "cell_type": "code",
   "execution_count": 62,
   "metadata": {
    "scrolled": true
   },
   "outputs": [
    {
     "data": {
      "image/png": "[encoded data removed]",
      "text/plain": [
       "<Figure size 432x288 with 2 Axes>"
      ]
     },
     "metadata": {
      "needs_background": "light"
     },
     "output_type": "display_data"
    }
   ],
   "source": [
    "#Porcentagem de sobrevivência entre os gêneros\n",
    "ctab = 100 * pd.crosstab(df['Class'], df['SEX'], normalize='columns')\n",
    "sns.heatmap(ctab, annot=True, fmt='g') \n",
    "plt.show()"
   ]
  },
  {
   "cell_type": "markdown",
   "metadata": {},
   "source": [
    "#### Esteroide x Classe"
   ]
  },
  {
   "cell_type": "code",
   "execution_count": 63,
   "metadata": {
    "scrolled": true
   },
   "outputs": [
    {
     "data": {
      "image/png": "[encoded data removed]",
      "text/plain": [
       "<Figure size 432x288 with 2 Axes>"
      ]
     },
     "metadata": {
      "needs_background": "light"
     },
     "output_type": "display_data"
    }
   ],
   "source": [
    "ctab = 100 * pd.crosstab(df['STEROID'], df['Class'],  normalize='columns')\n",
    "sns.heatmap(ctab, annot=True, fmt='g') \n",
    "plt.show()"
   ]
  },
  {
   "cell_type": "markdown",
   "metadata": {},
   "source": [
    "#### Antivirais x Classe"
   ]
  },
  {
   "cell_type": "code",
   "execution_count": 64,
   "metadata": {},
   "outputs": [
    {
     "data": {
      "image/png": "[encoded data removed]",
      "text/plain": [
       "<Figure size 432x288 with 2 Axes>"
      ]
     },
     "metadata": {
      "needs_background": "light"
     },
     "output_type": "display_data"
    }
   ],
   "source": [
    "ctab = 100 * pd.crosstab(df['ANTIVIRALS'], df['Class'],  normalize='columns')\n",
    "sns.heatmap(ctab, annot=True, fmt='g') \n",
    "plt.show()"
   ]
  },
  {
   "cell_type": "markdown",
   "metadata": {},
   "source": [
    "#### Fadiga x Classe"
   ]
  },
  {
   "cell_type": "code",
   "execution_count": 65,
   "metadata": {},
   "outputs": [
    {
     "data": {
      "image/png": "[encoded data removed]",
      "text/plain": [
       "<Figure size 432x288 with 2 Axes>"
      ]
     },
     "metadata": {
      "needs_background": "light"
     },
     "output_type": "display_data"
    }
   ],
   "source": [
    "ctab = 100 * pd.crosstab(df['FATIGUE'], df['Class'],  normalize='columns')\n",
    "sns.heatmap(ctab, annot=True, fmt='g') \n",
    "plt.show()"
   ]
  },
  {
   "cell_type": "markdown",
   "metadata": {},
   "source": [
    "#### Mal-estar x Classe"
   ]
  },
  {
   "cell_type": "code",
   "execution_count": 66,
   "metadata": {},
   "outputs": [
    {
     "data": {
      "image/png": "[encoded data removed]",
      "text/plain": [
       "<Figure size 432x288 with 2 Axes>"
      ]
     },
     "metadata": {
      "needs_background": "light"
     },
     "output_type": "display_data"
    }
   ],
   "source": [
    "ctab = 100 * pd.crosstab(df['MALAISE'], df['Class'],  normalize='columns')\n",
    "sns.heatmap(ctab, annot=True, fmt='g') \n",
    "plt.show()"
   ]
  },
  {
   "cell_type": "markdown",
   "metadata": {},
   "source": [
    "#### Anorexia x Classe"
   ]
  },
  {
   "cell_type": "code",
   "execution_count": 339,
   "metadata": {},
   "outputs": [
    {
     "data": {
      "image/png": "[encoded data removed]",
      "text/plain": [
       "<Figure size 432x288 with 2 Axes>"
      ]
     },
     "metadata": {
      "needs_background": "light"
     },
     "output_type": "display_data"
    }
   ],
   "source": [
    "ctab = 100 * pd.crosstab(df['ANOREXIA'], df['Class'],  normalize='columns')\n",
    "sns.heatmap(ctab, annot=True, fmt='g') \n",
    "plt.show()"
   ]
  },
  {
   "cell_type": "markdown",
   "metadata": {},
   "source": [
    "#### Hepatomegalia x Classe"
   ]
  },
  {
   "cell_type": "code",
   "execution_count": 68,
   "metadata": {},
   "outputs": [
    {
     "data": {
      "image/png": "[encoded data removed]",
      "text/plain": [
       "<Figure size 432x288 with 2 Axes>"
      ]
     },
     "metadata": {
      "needs_background": "light"
     },
     "output_type": "display_data"
    }
   ],
   "source": [
    "ctab = 100 * pd.crosstab(df['LIVER_BIG'], df['Class'],  normalize='columns')\n",
    "sns.heatmap(ctab, annot=True, fmt='g') \n",
    "plt.show()"
   ]
  },
  {
   "cell_type": "code",
   "execution_count": 69,
   "metadata": {},
   "outputs": [
    {
     "data": {
      "image/png": "[encoded data removed]",
      "text/plain": [
       "<Figure size 432x288 with 2 Axes>"
      ]
     },
     "metadata": {
      "needs_background": "light"
     },
     "output_type": "display_data"
    }
   ],
   "source": [
    "ctab = 100 * pd.crosstab(df['LIVER_FIRM'], df['Class'],  normalize='columns')\n",
    "sns.heatmap(ctab, annot=True, fmt='g') \n",
    "plt.show()"
   ]
  },
  {
   "cell_type": "markdown",
   "metadata": {},
   "source": [
    "#### Esplenomegalia x Classe"
   ]
  },
  {
   "cell_type": "code",
   "execution_count": 70,
   "metadata": {},
   "outputs": [
    {
     "data": {
      "image/png": "[encoded data removed]",
      "text/plain": [
       "<Figure size 432x288 with 2 Axes>"
      ]
     },
     "metadata": {
      "needs_background": "light"
     },
     "output_type": "display_data"
    }
   ],
   "source": [
    "ctab = 100 * pd.crosstab(df['SPLEEN_PALPABLE'], df['Class'],  normalize='columns')\n",
    "sns.heatmap(ctab, annot=True, fmt='g') \n",
    "plt.show()"
   ]
  },
  {
   "cell_type": "markdown",
   "metadata": {},
   "source": [
    "#### Aranhas Vasculares x Classe"
   ]
  },
  {
   "cell_type": "code",
   "execution_count": 71,
   "metadata": {},
   "outputs": [
    {
     "data": {
      "image/png": "[encoded data removed]",
      "text/plain": [
       "<Figure size 432x288 with 2 Axes>"
      ]
     },
     "metadata": {
      "needs_background": "light"
     },
     "output_type": "display_data"
    }
   ],
   "source": [
    "ctab = 100 * pd.crosstab(df['SPIDERS'], df['Class'],  normalize='columns')\n",
    "sns.heatmap(ctab, annot=True, fmt='g') \n",
    "plt.show()"
   ]
  },
  {
   "cell_type": "markdown",
   "metadata": {},
   "source": [
    "#### Aranhas Vasculares x Gênero"
   ]
  },
  {
   "cell_type": "code",
   "execution_count": 72,
   "metadata": {},
   "outputs": [
    {
     "data": {
      "image/png": "[encoded data removed]",
      "text/plain": [
       "<Figure size 432x288 with 2 Axes>"
      ]
     },
     "metadata": {
      "needs_background": "light"
     },
     "output_type": "display_data"
    }
   ],
   "source": [
    "ctab = 100 * pd.crosstab(df['SPIDERS'], df['SEX'],  normalize='columns')\n",
    "sns.heatmap(ctab, annot=True, fmt='g') \n",
    "plt.show()"
   ]
  },
  {
   "cell_type": "markdown",
   "metadata": {},
   "source": [
    "#### Ascite x Classe"
   ]
  },
  {
   "cell_type": "code",
   "execution_count": 73,
   "metadata": {
    "scrolled": true
   },
   "outputs": [
    {
     "data": {
      "image/png": "[encoded data removed]",
      "text/plain": [
       "<Figure size 432x288 with 2 Axes>"
      ]
     },
     "metadata": {
      "needs_background": "light"
     },
     "output_type": "display_data"
    }
   ],
   "source": [
    "ctab = 100 * pd.crosstab(df['ASCITES'], df['Class'],  normalize='columns')\n",
    "sns.heatmap(ctab, annot=True, fmt='g') \n",
    "plt.show()"
   ]
  },
  {
   "cell_type": "markdown",
   "metadata": {},
   "source": [
    "#### Ascite x Gênero"
   ]
  },
  {
   "cell_type": "code",
   "execution_count": 74,
   "metadata": {},
   "outputs": [
    {
     "data": {
      "image/png": "[encoded data removed]",
      "text/plain": [
       "<Figure size 432x288 with 2 Axes>"
      ]
     },
     "metadata": {
      "needs_background": "light"
     },
     "output_type": "display_data"
    }
   ],
   "source": [
    "ctab = 100 * pd.crosstab(df['ASCITES'], df['SEX'],  normalize='columns')\n",
    "sns.heatmap(ctab, annot=True, fmt='g') \n",
    "plt.show()"
   ]
  },
  {
   "cell_type": "markdown",
   "metadata": {},
   "source": [
    "#### Varizes x Classe"
   ]
  },
  {
   "cell_type": "code",
   "execution_count": 75,
   "metadata": {},
   "outputs": [
    {
     "data": {
      "image/png": "[encoded data removed]",
      "text/plain": [
       "<Figure size 432x288 with 2 Axes>"
      ]
     },
     "metadata": {
      "needs_background": "light"
     },
     "output_type": "display_data"
    }
   ],
   "source": [
    "ctab = 100 * pd.crosstab(df['VARICES'], df['Class'],  normalize='columns')\n",
    "sns.heatmap(ctab, annot=True, fmt='g') \n",
    "plt.show()"
   ]
  },
  {
   "cell_type": "markdown",
   "metadata": {},
   "source": [
    "#### Varizes x Gênero"
   ]
  },
  {
   "cell_type": "code",
   "execution_count": 76,
   "metadata": {
    "scrolled": true
   },
   "outputs": [
    {
     "data": {
      "image/png": "[encoded data removed]",
      "text/plain": [
       "<Figure size 432x288 with 2 Axes>"
      ]
     },
     "metadata": {
      "needs_background": "light"
     },
     "output_type": "display_data"
    }
   ],
   "source": [
    "ctab = 100 * pd.crosstab(df['VARICES'], df['SEX'],  normalize='columns')\n",
    "sns.heatmap(ctab, annot=True, fmt='g') \n",
    "plt.show()"
   ]
  },
  {
   "cell_type": "markdown",
   "metadata": {},
   "source": [
    "#### Histologia x Classe"
   ]
  },
  {
   "cell_type": "code",
   "execution_count": 77,
   "metadata": {},
   "outputs": [
    {
     "data": {
      "image/png": "[encoded data removed]",
      "text/plain": [
       "<Figure size 432x288 with 2 Axes>"
      ]
     },
     "metadata": {
      "needs_background": "light"
     },
     "output_type": "display_data"
    }
   ],
   "source": [
    "ctab = 100 * pd.crosstab(df['HISTOLOGY'], df['Class'],  normalize='columns')\n",
    "sns.heatmap(ctab, annot=True, fmt='g') \n",
    "plt.show()"
   ]
  },
  {
   "cell_type": "markdown",
   "metadata": {},
   "source": [
    "#### Idade"
   ]
  },
  {
   "cell_type": "code",
   "execution_count": 221,
   "metadata": {},
   "outputs": [
    {
     "data": {
      "image/png": "[encoded data removed]",
      "text/plain": [
       "<Figure size 432x288 with 1 Axes>"
      ]
     },
     "metadata": {
      "needs_background": "light"
     },
     "output_type": "display_data"
    }
   ],
   "source": [
    "sns.barplot(df['Class'], df['AGE'], hue=df['SEX'], palette='Blues_d')\n",
    "plt.show()"
   ]
  },
  {
   "cell_type": "markdown",
   "metadata": {},
   "source": [
    "#### Bilirrubina"
   ]
  },
  {
   "cell_type": "code",
   "execution_count": 173,
   "metadata": {
    "scrolled": true
   },
   "outputs": [
    {
     "data": {
      "image/png": "[encoded data removed]",
      "text/plain": [
       "<Figure size 432x288 with 1 Axes>"
      ]
     },
     "metadata": {
      "needs_background": "light"
     },
     "output_type": "display_data"
    }
   ],
   "source": [
    "sns.barplot(df['Class'], df['BILIRUBIN'], hue=df['SEX'], palette=\"Greens_d\")\n",
    "plt.show()"
   ]
  },
  {
   "cell_type": "code",
   "execution_count": 296,
   "metadata": {
    "scrolled": true
   },
   "outputs": [],
   "source": [
    "#Máscara para avaliar se os pacientes que apresentaram Bilirrubina acima do normal tinham mau prognóstico\n",
    "df_bili = df[df['BILIRUBIN'] > 1.2]"
   ]
  },
  {
   "cell_type": "code",
   "execution_count": 298,
   "metadata": {
    "scrolled": true
   },
   "outputs": [
    {
     "data": {
      "text/plain": [
       "(2028, 1296)"
      ]
     },
     "execution_count": 298,
     "metadata": {},
     "output_type": "execute_result"
    }
   ],
   "source": [
    "len(df_bili[df_bili['Class']== 0]), len(df_bili[df_bili['Class'] == 1])"
   ]
  },
  {
   "cell_type": "code",
   "execution_count": 299,
   "metadata": {},
   "outputs": [
    {
     "data": {
      "text/plain": [
       "(7856, 2055)"
      ]
     },
     "execution_count": 299,
     "metadata": {},
     "output_type": "execute_result"
    }
   ],
   "source": [
    "len(df[df['Class']== 0]), len(df[df['Class'] == 1])"
   ]
  },
  {
   "cell_type": "markdown",
   "metadata": {},
   "source": [
    "Porcentagem classe 0 = 2028 / 78.56 (total classe 0 / 100) = 25,81%\n",
    "\n",
    "Porcentagem classe 1 = 1296 / 20.55 (total classe 1 / 100) = 63,06%"
   ]
  },
  {
   "cell_type": "markdown",
   "metadata": {},
   "source": [
    "#### Fosfatase Alcalina"
   ]
  },
  {
   "cell_type": "code",
   "execution_count": 170,
   "metadata": {
    "scrolled": false
   },
   "outputs": [
    {
     "data": {
      "image/png": "[encoded data removed]",
      "text/plain": [
       "<Figure size 432x288 with 1 Axes>"
      ]
     },
     "metadata": {
      "needs_background": "light"
     },
     "output_type": "display_data"
    }
   ],
   "source": [
    "sns.barplot(df['Class'], df['ALK_PHOSPHATE'],  hue=df['SEX'], palette=\"Oranges_d\")\n",
    "plt.show()"
   ]
  },
  {
   "cell_type": "code",
   "execution_count": 273,
   "metadata": {
    "scrolled": true
   },
   "outputs": [
    {
     "name": "stderr",
     "output_type": "stream",
     "text": [
      "C:\\Users\\jessi\\anaconda3\\lib\\site-packages\\ipykernel_launcher.py:1: UserWarning: Boolean Series key will be reindexed to match DataFrame index.\n",
      "  \"\"\"Entry point for launching an IPython kernel.\n",
      "C:\\Users\\jessi\\anaconda3\\lib\\site-packages\\ipykernel_launcher.py:2: UserWarning: Boolean Series key will be reindexed to match DataFrame index.\n",
      "  \n"
     ]
    }
   ],
   "source": [
    "#Máscara para avaliar se os pacientes que apresentaram fosfatase alk acima do normal tinham mau prognóstico\n",
    "df_alkaltom = mask1[df['ALK_PHOSPHATE'] > 104]\n",
    "df_alkaltoh = mask2[df['ALK_PHOSPHATE'] > 129]"
   ]
  },
  {
   "cell_type": "code",
   "execution_count": 295,
   "metadata": {
    "scrolled": true
   },
   "outputs": [
    {
     "data": {
      "text/plain": [
       "(2824, 1126)"
      ]
     },
     "execution_count": 295,
     "metadata": {},
     "output_type": "execute_result"
    }
   ],
   "source": [
    "len(df_alkaltom[df_alkaltom['Class']== 0]), len(df_alkaltom[df_alkaltom['Class'] == 1])"
   ]
  },
  {
   "cell_type": "code",
   "execution_count": 293,
   "metadata": {
    "scrolled": false
   },
   "outputs": [
    {
     "data": {
      "text/plain": [
       "(7856, 2055)"
      ]
     },
     "execution_count": 293,
     "metadata": {},
     "output_type": "execute_result"
    }
   ],
   "source": [
    "len(df[df['Class']== 0]), len(df[df['Class'] == 1])"
   ]
  },
  {
   "cell_type": "markdown",
   "metadata": {},
   "source": [
    "Porcentagem classe0 = 35,94%\n",
    "\n",
    "Porcentagem classe1 = 54,79%"
   ]
  },
  {
   "cell_type": "code",
   "execution_count": 291,
   "metadata": {
    "scrolled": false
   },
   "outputs": [
    {
     "data": {
      "text/plain": [
       "(240, 11)"
      ]
     },
     "execution_count": 291,
     "metadata": {},
     "output_type": "execute_result"
    }
   ],
   "source": [
    "len(df_alkaltoh[df_alkaltoh['Class']== 0]), len(df_alkaltoh[df_alkaltoh['Class'] == 1])"
   ]
  },
  {
   "cell_type": "markdown",
   "metadata": {},
   "source": [
    "Porcentagem classe0 = 3,054%\n",
    "\n",
    "Porcentagem classe1 = 0,53%"
   ]
  },
  {
   "cell_type": "markdown",
   "metadata": {},
   "source": [
    "#### TGO"
   ]
  },
  {
   "cell_type": "code",
   "execution_count": 167,
   "metadata": {
    "scrolled": true
   },
   "outputs": [
    {
     "data": {
      "image/png": "[encoded data removed]",
      "text/plain": [
       "<Figure size 432x288 with 1 Axes>"
      ]
     },
     "metadata": {
      "needs_background": "light"
     },
     "output_type": "display_data"
    }
   ],
   "source": [
    "sns.barplot(df['Class'], df['SGOT'], hue=df['SEX'], palette=\"Reds_d\")\n",
    "plt.show()"
   ]
  },
  {
   "cell_type": "code",
   "execution_count": 300,
   "metadata": {},
   "outputs": [],
   "source": [
    "#Máscara para avaliar se os pacientes que apresentaram TGO acima do normal tinham mau prognóstico\n",
    "df_sgot = df[df['SGOT'] > 40]"
   ]
  },
  {
   "cell_type": "code",
   "execution_count": 301,
   "metadata": {
    "scrolled": true
   },
   "outputs": [
    {
     "data": {
      "text/plain": [
       "(5211, 1525)"
      ]
     },
     "execution_count": 301,
     "metadata": {},
     "output_type": "execute_result"
    }
   ],
   "source": [
    "len(df_sgot[df_sgot['Class']== 0]), len(df_sgot[df_sgot['Class'] == 1])"
   ]
  },
  {
   "cell_type": "code",
   "execution_count": 299,
   "metadata": {},
   "outputs": [
    {
     "data": {
      "text/plain": [
       "(7856, 2055)"
      ]
     },
     "execution_count": 299,
     "metadata": {},
     "output_type": "execute_result"
    }
   ],
   "source": [
    "len(df[df['Class']== 0]), len(df[df['Class'] == 1])"
   ]
  },
  {
   "cell_type": "markdown",
   "metadata": {},
   "source": [
    "Porcentagem classe 0 = 66,33%\n",
    "\n",
    "Porcentagem classe 1 = 74,2%"
   ]
  },
  {
   "cell_type": "markdown",
   "metadata": {},
   "source": [
    "#### Albumina"
   ]
  },
  {
   "cell_type": "code",
   "execution_count": 166,
   "metadata": {
    "scrolled": true
   },
   "outputs": [
    {
     "data": {
      "image/png": "[encoded data removed]",
      "text/plain": [
       "<Figure size 432x288 with 1 Axes>"
      ]
     },
     "metadata": {
      "needs_background": "light"
     },
     "output_type": "display_data"
    }
   ],
   "source": [
    "sns.barplot(df['Class'], df['ALBUMIN'], hue=df['SEX'], palette=\"Purples_d\")\n",
    "plt.show()"
   ]
  },
  {
   "cell_type": "code",
   "execution_count": 302,
   "metadata": {},
   "outputs": [],
   "source": [
    "#Máscara para avaliar se os pacientes que apresentaram albumina abaixo do normal tinham mau prognóstico\n",
    "df_alb = df[df['ALBUMIN'] < 3.5]"
   ]
  },
  {
   "cell_type": "code",
   "execution_count": 303,
   "metadata": {
    "scrolled": true
   },
   "outputs": [
    {
     "data": {
      "text/plain": [
       "(1291, 1027)"
      ]
     },
     "execution_count": 303,
     "metadata": {},
     "output_type": "execute_result"
    }
   ],
   "source": [
    "len(df_alb[df_alb['Class']== 0]), len(df_alb[df_alb['Class'] == 1])"
   ]
  },
  {
   "cell_type": "code",
   "execution_count": 299,
   "metadata": {
    "scrolled": true
   },
   "outputs": [
    {
     "data": {
      "text/plain": [
       "(7856, 2055)"
      ]
     },
     "execution_count": 299,
     "metadata": {},
     "output_type": "execute_result"
    }
   ],
   "source": [
    "len(df[df['Class']== 0]), len(df[df['Class'] == 1])"
   ]
  },
  {
   "cell_type": "markdown",
   "metadata": {},
   "source": [
    "Porcentagem classe 0 = 16,43%\n",
    "\n",
    "Porcentagem classe 1 = 49,9%"
   ]
  },
  {
   "cell_type": "markdown",
   "metadata": {},
   "source": [
    "#### Tempo de Protrombina"
   ]
  },
  {
   "cell_type": "code",
   "execution_count": 320,
   "metadata": {
    "scrolled": true
   },
   "outputs": [
    {
     "data": {
      "image/png": "[encoded data removed]",
      "text/plain": [
       "<Figure size 432x288 with 1 Axes>"
      ]
     },
     "metadata": {
      "needs_background": "light"
     },
     "output_type": "display_data"
    }
   ],
   "source": [
    "sns.barplot(df['Class'], df['PROTIME'], hue= df['SEX'], palette='RdBu_d')\n",
    "plt.show()"
   ]
  },
  {
   "cell_type": "code",
   "execution_count": 304,
   "metadata": {},
   "outputs": [],
   "source": [
    "#Máscara para avaliar se os pacientes que apresentaram TAP acima do normal tinham mau prognóstico\n",
    "df_tap = df[df['PROTIME'] > 14]"
   ]
  },
  {
   "cell_type": "code",
   "execution_count": 305,
   "metadata": {
    "scrolled": true
   },
   "outputs": [
    {
     "data": {
      "text/plain": [
       "(7731, 2007)"
      ]
     },
     "execution_count": 305,
     "metadata": {},
     "output_type": "execute_result"
    }
   ],
   "source": [
    "len(df_tap[df_tap['Class']== 0]), len(df_tap[df_tap['Class'] == 1])"
   ]
  },
  {
   "cell_type": "code",
   "execution_count": 299,
   "metadata": {
    "scrolled": true
   },
   "outputs": [
    {
     "data": {
      "text/plain": [
       "(7856, 2055)"
      ]
     },
     "execution_count": 299,
     "metadata": {},
     "output_type": "execute_result"
    }
   ],
   "source": [
    "len(df[df['Class']== 0]), len(df[df['Class'] == 1])"
   ]
  },
  {
   "cell_type": "markdown",
   "metadata": {},
   "source": [
    "Porcentagem classe 0 = 98,4% \n",
    "\n",
    "Porcentagem classe 1 = 97,66%"
   ]
  },
  {
   "cell_type": "markdown",
   "metadata": {},
   "source": [
    "# Visualizações efetivas\n",
    "\n",
    "Nesta seção, você deve escolher **duas visualizações apresentadas anteriormente** e melhorar suas componentes visuais. O objetivo é preparar estas visualizações para uma audiência que não possui *expertise* sobre o dataset analisado.\n",
    "Desta forma, garanta que o uso de tamanhos, cores, texturas, formas, etc, sejam apropriados e não exista \"chart junk\"."
   ]
  },
  {
   "cell_type": "code",
   "execution_count": 150,
   "metadata": {},
   "outputs": [
    {
     "data": {
      "text/html": [
       "<div>\n",
       "<style scoped>\n",
       "    .dataframe tbody tr th:only-of-type {\n",
       "        vertical-align: middle;\n",
       "    }\n",
       "\n",
       "    .dataframe tbody tr th {\n",
       "        vertical-align: top;\n",
       "    }\n",
       "\n",
       "    .dataframe thead th {\n",
       "        text-align: right;\n",
       "    }\n",
       "</style>\n",
       "<table border=\"1\" class=\"dataframe\">\n",
       "  <thead>\n",
       "    <tr style=\"text-align: right;\">\n",
       "      <th>SEX</th>\n",
       "      <th>female</th>\n",
       "      <th>male</th>\n",
       "    </tr>\n",
       "    <tr>\n",
       "      <th>Class</th>\n",
       "      <th></th>\n",
       "      <th></th>\n",
       "    </tr>\n",
       "  </thead>\n",
       "  <tbody>\n",
       "    <tr>\n",
       "      <th>0</th>\n",
       "      <td>77.023647</td>\n",
       "      <td>96.950673</td>\n",
       "    </tr>\n",
       "    <tr>\n",
       "      <th>1</th>\n",
       "      <td>22.976353</td>\n",
       "      <td>3.049327</td>\n",
       "    </tr>\n",
       "  </tbody>\n",
       "</table>\n",
       "</div>"
      ],
      "text/plain": [
       "SEX       female       male\n",
       "Class                      \n",
       "0      77.023647  96.950673\n",
       "1      22.976353   3.049327"
      ]
     },
     "execution_count": 150,
     "metadata": {},
     "output_type": "execute_result"
    }
   ],
   "source": [
    "ctab = 100 * pd.crosstab(df['Class'], df['SEX'], normalize='columns')\n",
    "ctab"
   ]
  },
  {
   "cell_type": "code",
   "execution_count": 157,
   "metadata": {},
   "outputs": [
    {
     "data": {
      "image/png": "[encoded data removed]",
      "text/plain": [
       "<Figure size 432x288 with 1 Axes>"
      ]
     },
     "metadata": {
      "needs_background": "light"
     },
     "output_type": "display_data"
    }
   ],
   "source": [
    "ctab = 100 * pd.crosstab(df['VARICES'], df['SEX'], normalize='columns')\n",
    "ctab.plot.bar(color= ['white', 'black'], edgecolor='black')\n",
    "plt.legend(title='SEX') \n",
    "plt.ylabel('%')\n",
    "plt.show()"
   ]
  },
  {
   "cell_type": "code",
   "execution_count": 322,
   "metadata": {
    "scrolled": false
   },
   "outputs": [
    {
     "data": {
      "image/png": "[encoded data removed]",
      "text/plain": [
       "<Figure size 432x432 with 4 Axes>"
      ]
     },
     "metadata": {
      "needs_background": "light"
     },
     "output_type": "display_data"
    }
   ],
   "source": [
    "#Melhoria da visualização comparando presença e ausência de veias-aranha, sobrevida dos pacientes e divididos por gênero\n",
    "g = sns.FacetGrid(df, row='Class', col='SEX', col_order=['female', 'male'])  \n",
    "g.map(sns.countplot, 'SPIDERS', palette=\"GnBu_d\", edgecolor = '.2')\n",
    "plt.show()"
   ]
  },
  {
   "cell_type": "code",
   "execution_count": 338,
   "metadata": {},
   "outputs": [
    {
     "data": {
      "image/png": "[encoded data removed]",
      "text/plain": [
       "<Figure size 432x432 with 4 Axes>"
      ]
     },
     "metadata": {
      "needs_background": "light"
     },
     "output_type": "display_data"
    }
   ],
   "source": [
    "g = sns.FacetGrid(df, row='Class', col='SEX', col_order=['female', 'male'])  \n",
    "g.map(sns.barplot, 'BILIRUBIN', color='white', edgecolor = '.2', capsize=.2)\n",
    "plt.ylabel('')\n",
    "plt.show()"
   ]
  },
  {
   "cell_type": "markdown",
   "metadata": {},
   "source": [
    "# Aprendizagem de Máquina\n",
    "\n",
    "Nesta seção voce deve utilizar os algoritmos de aprendizagem de máquina para classificação do dataset escolhido. O objetivo é classificar o dataset de acordo com a sua classe determinada, para tanto, você deve efetuar as etapas de pré-processamento, busca de hiperparametros, avaliação e comparação das técnicas escolhidas."
   ]
  },
  {
   "cell_type": "markdown",
   "metadata": {},
   "source": [
    "# Pré-processamento\n",
    "\n",
    "Nesta seção utilize as técnicas de pré-processamento estudadas necessárias para aplicar os algoritmos de aprendizagem de máquina."
   ]
  },
  {
   "cell_type": "markdown",
   "metadata": {},
   "source": [
    "#### > Passo 1: Transformar dados nominais em numéricos"
   ]
  },
  {
   "cell_type": "code",
   "execution_count": 90,
   "metadata": {},
   "outputs": [],
   "source": [
    "df.replace(to_replace=['yes', 'no'], value=[1, 0], inplace=True)"
   ]
  },
  {
   "cell_type": "code",
   "execution_count": 91,
   "metadata": {},
   "outputs": [
    {
     "data": {
      "text/html": [
       "<div>\n",
       "<style scoped>\n",
       "    .dataframe tbody tr th:only-of-type {\n",
       "        vertical-align: middle;\n",
       "    }\n",
       "\n",
       "    .dataframe tbody tr th {\n",
       "        vertical-align: top;\n",
       "    }\n",
       "\n",
       "    .dataframe thead th {\n",
       "        text-align: right;\n",
       "    }\n",
       "</style>\n",
       "<table border=\"1\" class=\"dataframe\">\n",
       "  <thead>\n",
       "    <tr style=\"text-align: right;\">\n",
       "      <th></th>\n",
       "      <th>AGE</th>\n",
       "      <th>SEX</th>\n",
       "      <th>STEROID</th>\n",
       "      <th>ANTIVIRALS</th>\n",
       "      <th>FATIGUE</th>\n",
       "      <th>MALAISE</th>\n",
       "      <th>ANOREXIA</th>\n",
       "      <th>LIVER_BIG</th>\n",
       "      <th>LIVER_FIRM</th>\n",
       "      <th>SPLEEN_PALPABLE</th>\n",
       "      <th>SPIDERS</th>\n",
       "      <th>ASCITES</th>\n",
       "      <th>VARICES</th>\n",
       "      <th>BILIRUBIN</th>\n",
       "      <th>ALK_PHOSPHATE</th>\n",
       "      <th>SGOT</th>\n",
       "      <th>ALBUMIN</th>\n",
       "      <th>PROTIME</th>\n",
       "      <th>HISTOLOGY</th>\n",
       "      <th>Class</th>\n",
       "    </tr>\n",
       "  </thead>\n",
       "  <tbody>\n",
       "    <tr>\n",
       "      <th>276826</th>\n",
       "      <td>51.021637</td>\n",
       "      <td>female</td>\n",
       "      <td>0</td>\n",
       "      <td>0</td>\n",
       "      <td>1</td>\n",
       "      <td>0</td>\n",
       "      <td>0</td>\n",
       "      <td>1</td>\n",
       "      <td>0</td>\n",
       "      <td>1</td>\n",
       "      <td>1</td>\n",
       "      <td>1</td>\n",
       "      <td>1</td>\n",
       "      <td>5.185160</td>\n",
       "      <td>87.396654</td>\n",
       "      <td>73.834579</td>\n",
       "      <td>3.678289</td>\n",
       "      <td>32.699447</td>\n",
       "      <td>1</td>\n",
       "      <td>DIE</td>\n",
       "    </tr>\n",
       "    <tr>\n",
       "      <th>849425</th>\n",
       "      <td>48.678283</td>\n",
       "      <td>female</td>\n",
       "      <td>1</td>\n",
       "      <td>0</td>\n",
       "      <td>1</td>\n",
       "      <td>0</td>\n",
       "      <td>0</td>\n",
       "      <td>1</td>\n",
       "      <td>0</td>\n",
       "      <td>0</td>\n",
       "      <td>0</td>\n",
       "      <td>0</td>\n",
       "      <td>0</td>\n",
       "      <td>0.643706</td>\n",
       "      <td>86.255362</td>\n",
       "      <td>64.186930</td>\n",
       "      <td>4.216774</td>\n",
       "      <td>57.257385</td>\n",
       "      <td>1</td>\n",
       "      <td>LIVE</td>\n",
       "    </tr>\n",
       "    <tr>\n",
       "      <th>504499</th>\n",
       "      <td>38.361577</td>\n",
       "      <td>female</td>\n",
       "      <td>0</td>\n",
       "      <td>0</td>\n",
       "      <td>1</td>\n",
       "      <td>1</td>\n",
       "      <td>1</td>\n",
       "      <td>1</td>\n",
       "      <td>0</td>\n",
       "      <td>0</td>\n",
       "      <td>1</td>\n",
       "      <td>0</td>\n",
       "      <td>0</td>\n",
       "      <td>6.824581</td>\n",
       "      <td>77.496402</td>\n",
       "      <td>22.732428</td>\n",
       "      <td>4.034230</td>\n",
       "      <td>78.724236</td>\n",
       "      <td>0</td>\n",
       "      <td>DIE</td>\n",
       "    </tr>\n",
       "    <tr>\n",
       "      <th>601054</th>\n",
       "      <td>45.456802</td>\n",
       "      <td>male</td>\n",
       "      <td>0</td>\n",
       "      <td>0</td>\n",
       "      <td>0</td>\n",
       "      <td>0</td>\n",
       "      <td>0</td>\n",
       "      <td>1</td>\n",
       "      <td>1</td>\n",
       "      <td>0</td>\n",
       "      <td>0</td>\n",
       "      <td>0</td>\n",
       "      <td>0</td>\n",
       "      <td>0.557364</td>\n",
       "      <td>81.151737</td>\n",
       "      <td>99.561217</td>\n",
       "      <td>3.335005</td>\n",
       "      <td>25.879596</td>\n",
       "      <td>0</td>\n",
       "      <td>LIVE</td>\n",
       "    </tr>\n",
       "    <tr>\n",
       "      <th>980221</th>\n",
       "      <td>29.033731</td>\n",
       "      <td>female</td>\n",
       "      <td>1</td>\n",
       "      <td>0</td>\n",
       "      <td>1</td>\n",
       "      <td>0</td>\n",
       "      <td>0</td>\n",
       "      <td>1</td>\n",
       "      <td>1</td>\n",
       "      <td>0</td>\n",
       "      <td>0</td>\n",
       "      <td>1</td>\n",
       "      <td>0</td>\n",
       "      <td>0.576757</td>\n",
       "      <td>85.930826</td>\n",
       "      <td>278.008937</td>\n",
       "      <td>4.155596</td>\n",
       "      <td>38.642044</td>\n",
       "      <td>1</td>\n",
       "      <td>LIVE</td>\n",
       "    </tr>\n",
       "    <tr>\n",
       "      <th>...</th>\n",
       "      <td>...</td>\n",
       "      <td>...</td>\n",
       "      <td>...</td>\n",
       "      <td>...</td>\n",
       "      <td>...</td>\n",
       "      <td>...</td>\n",
       "      <td>...</td>\n",
       "      <td>...</td>\n",
       "      <td>...</td>\n",
       "      <td>...</td>\n",
       "      <td>...</td>\n",
       "      <td>...</td>\n",
       "      <td>...</td>\n",
       "      <td>...</td>\n",
       "      <td>...</td>\n",
       "      <td>...</td>\n",
       "      <td>...</td>\n",
       "      <td>...</td>\n",
       "      <td>...</td>\n",
       "      <td>...</td>\n",
       "    </tr>\n",
       "    <tr>\n",
       "      <th>662322</th>\n",
       "      <td>32.137096</td>\n",
       "      <td>female</td>\n",
       "      <td>1</td>\n",
       "      <td>0</td>\n",
       "      <td>1</td>\n",
       "      <td>0</td>\n",
       "      <td>0</td>\n",
       "      <td>1</td>\n",
       "      <td>0</td>\n",
       "      <td>0</td>\n",
       "      <td>0</td>\n",
       "      <td>1</td>\n",
       "      <td>0</td>\n",
       "      <td>5.560456</td>\n",
       "      <td>103.549903</td>\n",
       "      <td>65.106479</td>\n",
       "      <td>4.699833</td>\n",
       "      <td>11.412975</td>\n",
       "      <td>1</td>\n",
       "      <td>LIVE</td>\n",
       "    </tr>\n",
       "    <tr>\n",
       "      <th>423063</th>\n",
       "      <td>59.350357</td>\n",
       "      <td>female</td>\n",
       "      <td>0</td>\n",
       "      <td>0</td>\n",
       "      <td>1</td>\n",
       "      <td>0</td>\n",
       "      <td>0</td>\n",
       "      <td>1</td>\n",
       "      <td>0</td>\n",
       "      <td>0</td>\n",
       "      <td>1</td>\n",
       "      <td>0</td>\n",
       "      <td>0</td>\n",
       "      <td>0.434329</td>\n",
       "      <td>68.016868</td>\n",
       "      <td>173.679136</td>\n",
       "      <td>3.523148</td>\n",
       "      <td>29.824489</td>\n",
       "      <td>0</td>\n",
       "      <td>LIVE</td>\n",
       "    </tr>\n",
       "    <tr>\n",
       "      <th>610680</th>\n",
       "      <td>29.254426</td>\n",
       "      <td>female</td>\n",
       "      <td>0</td>\n",
       "      <td>0</td>\n",
       "      <td>0</td>\n",
       "      <td>0</td>\n",
       "      <td>0</td>\n",
       "      <td>1</td>\n",
       "      <td>0</td>\n",
       "      <td>0</td>\n",
       "      <td>1</td>\n",
       "      <td>0</td>\n",
       "      <td>0</td>\n",
       "      <td>5.344304</td>\n",
       "      <td>155.750395</td>\n",
       "      <td>19.205810</td>\n",
       "      <td>3.392475</td>\n",
       "      <td>101.113576</td>\n",
       "      <td>1</td>\n",
       "      <td>DIE</td>\n",
       "    </tr>\n",
       "    <tr>\n",
       "      <th>639271</th>\n",
       "      <td>48.958449</td>\n",
       "      <td>female</td>\n",
       "      <td>0</td>\n",
       "      <td>0</td>\n",
       "      <td>1</td>\n",
       "      <td>1</td>\n",
       "      <td>1</td>\n",
       "      <td>1</td>\n",
       "      <td>0</td>\n",
       "      <td>1</td>\n",
       "      <td>0</td>\n",
       "      <td>1</td>\n",
       "      <td>0</td>\n",
       "      <td>1.376654</td>\n",
       "      <td>87.021196</td>\n",
       "      <td>80.629962</td>\n",
       "      <td>2.619140</td>\n",
       "      <td>25.515133</td>\n",
       "      <td>1</td>\n",
       "      <td>DIE</td>\n",
       "    </tr>\n",
       "    <tr>\n",
       "      <th>175434</th>\n",
       "      <td>40.129208</td>\n",
       "      <td>female</td>\n",
       "      <td>0</td>\n",
       "      <td>1</td>\n",
       "      <td>1</td>\n",
       "      <td>0</td>\n",
       "      <td>0</td>\n",
       "      <td>0</td>\n",
       "      <td>1</td>\n",
       "      <td>0</td>\n",
       "      <td>1</td>\n",
       "      <td>0</td>\n",
       "      <td>0</td>\n",
       "      <td>0.827175</td>\n",
       "      <td>51.780201</td>\n",
       "      <td>38.224085</td>\n",
       "      <td>4.165674</td>\n",
       "      <td>69.219329</td>\n",
       "      <td>1</td>\n",
       "      <td>LIVE</td>\n",
       "    </tr>\n",
       "  </tbody>\n",
       "</table>\n",
       "<p>9911 rows × 20 columns</p>\n",
       "</div>"
      ],
      "text/plain": [
       "              AGE     SEX  STEROID  ANTIVIRALS  FATIGUE  MALAISE  ANOREXIA  \\\n",
       "276826  51.021637  female        0           0        1        0         0   \n",
       "849425  48.678283  female        1           0        1        0         0   \n",
       "504499  38.361577  female        0           0        1        1         1   \n",
       "601054  45.456802    male        0           0        0        0         0   \n",
       "980221  29.033731  female        1           0        1        0         0   \n",
       "...           ...     ...      ...         ...      ...      ...       ...   \n",
       "662322  32.137096  female        1           0        1        0         0   \n",
       "423063  59.350357  female        0           0        1        0         0   \n",
       "610680  29.254426  female        0           0        0        0         0   \n",
       "639271  48.958449  female        0           0        1        1         1   \n",
       "175434  40.129208  female        0           1        1        0         0   \n",
       "\n",
       "        LIVER_BIG  LIVER_FIRM  SPLEEN_PALPABLE  SPIDERS  ASCITES  VARICES  \\\n",
       "276826          1           0                1        1        1        1   \n",
       "849425          1           0                0        0        0        0   \n",
       "504499          1           0                0        1        0        0   \n",
       "601054          1           1                0        0        0        0   \n",
       "980221          1           1                0        0        1        0   \n",
       "...           ...         ...              ...      ...      ...      ...   \n",
       "662322          1           0                0        0        1        0   \n",
       "423063          1           0                0        1        0        0   \n",
       "610680          1           0                0        1        0        0   \n",
       "639271          1           0                1        0        1        0   \n",
       "175434          0           1                0        1        0        0   \n",
       "\n",
       "        BILIRUBIN  ALK_PHOSPHATE        SGOT   ALBUMIN     PROTIME  HISTOLOGY  \\\n",
       "276826   5.185160      87.396654   73.834579  3.678289   32.699447          1   \n",
       "849425   0.643706      86.255362   64.186930  4.216774   57.257385          1   \n",
       "504499   6.824581      77.496402   22.732428  4.034230   78.724236          0   \n",
       "601054   0.557364      81.151737   99.561217  3.335005   25.879596          0   \n",
       "980221   0.576757      85.930826  278.008937  4.155596   38.642044          1   \n",
       "...           ...            ...         ...       ...         ...        ...   \n",
       "662322   5.560456     103.549903   65.106479  4.699833   11.412975          1   \n",
       "423063   0.434329      68.016868  173.679136  3.523148   29.824489          0   \n",
       "610680   5.344304     155.750395   19.205810  3.392475  101.113576          1   \n",
       "639271   1.376654      87.021196   80.629962  2.619140   25.515133          1   \n",
       "175434   0.827175      51.780201   38.224085  4.165674   69.219329          1   \n",
       "\n",
       "       Class  \n",
       "276826   DIE  \n",
       "849425  LIVE  \n",
       "504499   DIE  \n",
       "601054  LIVE  \n",
       "980221  LIVE  \n",
       "...      ...  \n",
       "662322  LIVE  \n",
       "423063  LIVE  \n",
       "610680   DIE  \n",
       "639271   DIE  \n",
       "175434  LIVE  \n",
       "\n",
       "[9911 rows x 20 columns]"
      ]
     },
     "execution_count": 91,
     "metadata": {},
     "output_type": "execute_result"
    }
   ],
   "source": [
    "df"
   ]
  },
  {
   "cell_type": "code",
   "execution_count": 92,
   "metadata": {},
   "outputs": [],
   "source": [
    "#Transformar classe\n",
    "df['Class'].replace(to_replace=['LIVE', 'DIE'], value=[0, 1], inplace=True)"
   ]
  },
  {
   "cell_type": "code",
   "execution_count": 93,
   "metadata": {},
   "outputs": [
    {
     "data": {
      "text/plain": [
       "AGE                float64\n",
       "STEROID              int64\n",
       "ANTIVIRALS           int64\n",
       "FATIGUE              int64\n",
       "MALAISE              int64\n",
       "ANOREXIA             int64\n",
       "LIVER_BIG            int64\n",
       "LIVER_FIRM           int64\n",
       "SPLEEN_PALPABLE      int64\n",
       "SPIDERS              int64\n",
       "ASCITES              int64\n",
       "VARICES              int64\n",
       "BILIRUBIN          float64\n",
       "ALK_PHOSPHATE      float64\n",
       "SGOT               float64\n",
       "ALBUMIN            float64\n",
       "PROTIME            float64\n",
       "HISTOLOGY            int64\n",
       "Class                int64\n",
       "SEX_male             uint8\n",
       "dtype: object"
      ]
     },
     "execution_count": 93,
     "metadata": {},
     "output_type": "execute_result"
    }
   ],
   "source": [
    "#Como valores de gênero tem o mesmo peso, usarei get_dummies para a transformação\n",
    "dfNumerico = pd.get_dummies(df, prefix_sep='_',drop_first=True)\n",
    "dfNumerico.dtypes"
   ]
  },
  {
   "cell_type": "markdown",
   "metadata": {},
   "source": [
    "#### > Passo 2: Normalização dos Valores"
   ]
  },
  {
   "cell_type": "code",
   "execution_count": 94,
   "metadata": {},
   "outputs": [],
   "source": [
    "#dropa a classe income pra que ele possa prever ela\n",
    "features = np.array(dfNumerico.drop('Class', axis = 1))\n",
    "label = np.array(dfNumerico['Class'])\n",
    "#Normalizar os resultados\n",
    "scaler = MaxAbsScaler()\n",
    "scaler.fit(features)\n",
    "featuresNormalizado = scaler.transform(features)"
   ]
  },
  {
   "cell_type": "markdown",
   "metadata": {},
   "source": [
    "#### > Passo 3: Balanceamento de Classe"
   ]
  },
  {
   "cell_type": "code",
   "execution_count": 95,
   "metadata": {},
   "outputs": [
    {
     "data": {
      "text/plain": [
       "(7856, 2055)"
      ]
     },
     "execution_count": 95,
     "metadata": {},
     "output_type": "execute_result"
    }
   ],
   "source": [
    "#quantidade de dados na classe ==> Balanceamento?\n",
    "len(df[df['Class']== 0]), len(df[df['Class'] == 1])"
   ]
  },
  {
   "cell_type": "markdown",
   "metadata": {},
   "source": [
    "# Avaliação\n",
    "\n",
    "Nesta seção você deve:\n",
    "- Utilizar pelo menos 5 classificadores (estudados ou não em nossos encontros);\n",
    "- Determinar a metodologia de avaliação de acordo com as características do dataset (holdout ou validação cruzada);\n",
    "- Efetuar a busca de hiperparâmetros de acordo com cada classificador. A capacidade de generalização do modelo deve ser levada em consideração durante a busca e definição dos parametros;\n",
    "- Plotar a curva ROC entre os classificadores;\n",
    "- Para o melhor classificador, determinar acurácia de acordo com o ponto de operação desejado em seu dataset;"
   ]
  },
  {
   "cell_type": "markdown",
   "metadata": {},
   "source": [
    "#### > Passo 1: Metodologia de Avaliação = HOLDOUT"
   ]
  },
  {
   "cell_type": "code",
   "execution_count": 96,
   "metadata": {},
   "outputs": [],
   "source": [
    "#Separar treino e teste com hold out\n",
    "\n",
    "trainFeatures, testFeatures, trainLabel, testLabel = train_test_split(featuresNormalizado, label, train_size=0.7, random_state=42)"
   ]
  },
  {
   "cell_type": "markdown",
   "metadata": {},
   "source": [
    "#### > Passo 2: Busca por hiperparâmetros de cada classificador"
   ]
  },
  {
   "cell_type": "code",
   "execution_count": 97,
   "metadata": {},
   "outputs": [],
   "source": [
    "#Generalização para determinar valor do classificador kNN\n",
    "listaErroTreinokNN = [] \n",
    "listaErroTestekNN = []\n",
    "for i in range (200, 1, -2): \n",
    "    knn = KNeighborsClassifier(n_neighbors=i)\n",
    "    knn.fit(trainFeatures, trainLabel) \n",
    "    \n",
    "    \n",
    "    predicaoTeste = knn.predict(testFeatures)\n",
    "    accTeste = accuracy_score(predicaoTeste, testLabel)\n",
    "        \n",
    "    predicaoTreino = knn.predict(trainFeatures)\n",
    "    accTreino = accuracy_score(predicaoTreino, trainLabel)\n",
    "    listaErroTreinokNN.append(1-accTreino)\n",
    "    listaErroTestekNN.append(1-accTeste)    "
   ]
  },
  {
   "cell_type": "code",
   "execution_count": 98,
   "metadata": {},
   "outputs": [
    {
     "data": {
      "image/png": "[encoded data removed]",
      "text/plain": [
       "<Figure size 432x288 with 1 Axes>"
      ]
     },
     "metadata": {
      "needs_background": "light"
     },
     "output_type": "display_data"
    }
   ],
   "source": [
    "plt.plot(listaErroTreinokNN)\n",
    "plt.plot(listaErroTestekNN)\n",
    "plt.legend(['Treino kNN', 'Teste kNN'])\n",
    "plt.show()"
   ]
  },
  {
   "cell_type": "code",
   "execution_count": 99,
   "metadata": {},
   "outputs": [
    {
     "data": {
      "text/plain": [
       "array([[2283,   72],\n",
       "       [ 264,  355]], dtype=int64)"
      ]
     },
     "execution_count": 99,
     "metadata": {},
     "output_type": "execute_result"
    }
   ],
   "source": [
    "#MATRIZ DE CONFUSÃO DA kNN\n",
    "predicaoTeste = knn.predict(testFeatures)\n",
    "matriz = confusion_matrix(testLabel,predicaoTeste)\n",
    "matriz"
   ]
  },
  {
   "cell_type": "code",
   "execution_count": 100,
   "metadata": {
    "collapsed": true
   },
   "outputs": [
    {
     "name": "stdout",
     "output_type": "stream",
     "text": [
      "200\n",
      "198\n",
      "196\n",
      "194\n",
      "192\n",
      "190\n",
      "188\n",
      "186\n",
      "184\n",
      "182\n",
      "180\n",
      "178\n",
      "176\n",
      "174\n",
      "172\n",
      "170\n",
      "168\n",
      "166\n",
      "164\n",
      "162\n",
      "160\n",
      "158\n",
      "156\n",
      "154\n",
      "152\n",
      "150\n",
      "148\n",
      "146\n",
      "144\n",
      "142\n",
      "140\n",
      "138\n",
      "136\n",
      "134\n",
      "132\n",
      "130\n",
      "128\n",
      "126\n",
      "124\n",
      "122\n",
      "120\n",
      "118\n",
      "116\n",
      "114\n",
      "112\n",
      "110\n",
      "108\n",
      "106\n",
      "104\n",
      "102\n",
      "100\n",
      "98\n",
      "96\n",
      "94\n",
      "92\n",
      "90\n",
      "88\n",
      "86\n",
      "84\n",
      "82\n",
      "80\n",
      "78\n",
      "76\n",
      "74\n",
      "72\n",
      "70\n",
      "68\n",
      "66\n",
      "64\n",
      "62\n",
      "60\n",
      "58\n",
      "56\n",
      "54\n",
      "52\n",
      "50\n",
      "48\n",
      "46\n",
      "44\n",
      "42\n",
      "40\n",
      "38\n",
      "36\n",
      "34\n",
      "32\n",
      "30\n",
      "28\n",
      "26\n",
      "24\n",
      "22\n",
      "20\n",
      "18\n",
      "16\n",
      "14\n",
      "12\n",
      "10\n",
      "8\n",
      "6\n",
      "4\n",
      "2\n"
     ]
    }
   ],
   "source": [
    "#Generalização para determinar valor do classificador DT\n",
    "listaErroTreino = []\n",
    "listaErroTeste = []\n",
    "for i in range(200,1,-2):\n",
    "    tree = DecisionTreeClassifier(min_samples_split=i)\n",
    "    tree.fit(trainFeatures, trainLabel)\n",
    "    \n",
    "    predicaoTeste = tree.predict(testFeatures)\n",
    "    accTeste = accuracy_score(predicaoTeste, testLabel)\n",
    "        \n",
    "    predicaoTreino = tree.predict(trainFeatures)\n",
    "    accTreino = accuracy_score(predicaoTreino, trainLabel)\n",
    "    listaErroTreino.append(1-accTreino)\n",
    "    listaErroTeste.append(1-accTeste)\n",
    "    print(i)"
   ]
  },
  {
   "cell_type": "code",
   "execution_count": 101,
   "metadata": {},
   "outputs": [
    {
     "data": {
      "image/png": "[encoded data removed]",
      "text/plain": [
       "<Figure size 432x288 with 1 Axes>"
      ]
     },
     "metadata": {
      "needs_background": "light"
     },
     "output_type": "display_data"
    }
   ],
   "source": [
    "plt.plot(listaErroTreino)\n",
    "plt.plot(listaErroTeste)\n",
    "plt.legend(['Treino DT', 'Teste DT'])\n",
    "plt.show()"
   ]
  },
  {
   "cell_type": "code",
   "execution_count": 102,
   "metadata": {},
   "outputs": [
    {
     "data": {
      "text/plain": [
       "array([[2164,  191],\n",
       "       [ 170,  449]], dtype=int64)"
      ]
     },
     "execution_count": 102,
     "metadata": {},
     "output_type": "execute_result"
    }
   ],
   "source": [
    "#MATRIZ DE CONFUSÃO DA DECISION TREE\n",
    "predicaoTeste = tree.predict(testFeatures)\n",
    "matriz = confusion_matrix(testLabel,predicaoTeste)\n",
    "matriz"
   ]
  },
  {
   "cell_type": "code",
   "execution_count": 103,
   "metadata": {},
   "outputs": [
    {
     "data": {
      "image/png": "[encoded data removed]",
      "text/plain": [
       "<Figure size 432x288 with 1 Axes>"
      ]
     },
     "metadata": {
      "needs_background": "light"
     },
     "output_type": "display_data"
    }
   ],
   "source": [
    "#Generalização para determinar valor do classificador Random Forest\n",
    "listaErroTreinoRF = []\n",
    "listaErroTesteRF = []\n",
    "for i in range(200,1,-2):\n",
    "    forest = RandomForestClassifier(n_estimators=i)\n",
    "    forest.fit(trainFeatures, trainLabel)\n",
    "    \n",
    "    predicaoTeste = forest.predict(testFeatures)\n",
    "    accTeste = accuracy_score(predicaoTeste, testLabel)\n",
    "        \n",
    "    predicaoTreino = forest.predict(trainFeatures)\n",
    "    accTreino = accuracy_score(predicaoTreino, trainLabel)\n",
    "    listaErroTreinoRF.append(1-accTreino)\n",
    "    listaErroTesteRF.append(1-accTeste)\n",
    "    \n",
    "plt.plot(listaErroTreinoRF)\n",
    "plt.plot(listaErroTesteRF)\n",
    "plt.legend(['Treino RF', 'Teste RF'])\n",
    "plt.show()"
   ]
  },
  {
   "cell_type": "code",
   "execution_count": 104,
   "metadata": {},
   "outputs": [
    {
     "data": {
      "text/plain": [
       "array([[2298,   57],\n",
       "       [ 308,  311]], dtype=int64)"
      ]
     },
     "execution_count": 104,
     "metadata": {},
     "output_type": "execute_result"
    }
   ],
   "source": [
    "#MATRIZ DE CONFUSÃO DA RANDOM FOREST\n",
    "predicaoTeste = forest.predict(testFeatures)\n",
    "matriz = confusion_matrix(testLabel,predicaoTeste)\n",
    "matriz"
   ]
  },
  {
   "cell_type": "code",
   "execution_count": 105,
   "metadata": {},
   "outputs": [
    {
     "data": {
      "image/png": "[encoded data removed]",
      "text/plain": [
       "<Figure size 432x288 with 1 Axes>"
      ]
     },
     "metadata": {
      "needs_background": "light"
     },
     "output_type": "display_data"
    }
   ],
   "source": [
    "# Generalização para determinar valor do classificador AdaBoost\n",
    "listaErroTreinoAda = []\n",
    "listaErroTesteAda = []\n",
    "for i in range(200,1,-2):\n",
    "    adaboost = AdaBoostClassifier(n_estimators=i)\n",
    "    adaboost.fit(trainFeatures, trainLabel)\n",
    "    \n",
    "    predicaoTeste = adaboost.predict(testFeatures)\n",
    "    accTeste = accuracy_score(predicaoTeste, testLabel)\n",
    "        \n",
    "    predicaoTreino = adaboost.predict(trainFeatures)\n",
    "    accTreino = accuracy_score(predicaoTreino, trainLabel)\n",
    "    listaErroTreinoAda.append(1-accTreino)\n",
    "    listaErroTesteAda.append(1-accTeste)  \n",
    "plt.plot(listaErroTreinoAda)\n",
    "plt.plot(listaErroTesteAda)\n",
    "plt.legend(['Treino Ada', 'Teste Ada'])\n",
    "plt.show()"
   ]
  },
  {
   "cell_type": "code",
   "execution_count": 106,
   "metadata": {},
   "outputs": [
    {
     "data": {
      "text/plain": [
       "array([[2311,   44],\n",
       "       [ 414,  205]], dtype=int64)"
      ]
     },
     "execution_count": 106,
     "metadata": {},
     "output_type": "execute_result"
    }
   ],
   "source": [
    "# MATRIZ DE CONFUSÃO ADA\n",
    "predicaoAda = adaboost.predict(testFeatures)\n",
    "confusion_matrix(testLabel, predicaoAda)"
   ]
  },
  {
   "cell_type": "code",
   "execution_count": 107,
   "metadata": {
    "scrolled": true
   },
   "outputs": [
    {
     "data": {
      "image/png": "[encoded data removed]",
      "text/plain": [
       "<Figure size 432x288 with 1 Axes>"
      ]
     },
     "metadata": {
      "needs_background": "light"
     },
     "output_type": "display_data"
    }
   ],
   "source": [
    "# Generalização para determinar valor da Regressão Logística\n",
    "listaErroTreinoRL = []\n",
    "listaErroTesteRL = []\n",
    "for i in range(200,1,-2):\n",
    "    regressao = LogisticRegression(intercept_scaling=i)\n",
    "    regressao.fit(trainFeatures, trainLabel)\n",
    "    \n",
    "    predicaoTeste = regressao.predict(testFeatures)\n",
    "    accTeste = accuracy_score(predicaoTeste, testLabel)\n",
    "        \n",
    "    predicaoTreino = regressao.predict(trainFeatures)\n",
    "    accTreino = accuracy_score(predicaoTreino, trainLabel)\n",
    "    listaErroTreinoRL.append(1-accTreino)\n",
    "    listaErroTesteRL.append(1-accTeste)  \n",
    "plt.plot(listaErroTreinoRL)\n",
    "plt.plot(listaErroTesteRL)\n",
    "plt.legend(['Treino RL', 'Teste RL'])\n",
    "plt.show()"
   ]
  },
  {
   "cell_type": "code",
   "execution_count": 108,
   "metadata": {},
   "outputs": [
    {
     "data": {
      "text/plain": [
       "array([[2255,  100],\n",
       "       [ 178,  441]], dtype=int64)"
      ]
     },
     "execution_count": 108,
     "metadata": {},
     "output_type": "execute_result"
    }
   ],
   "source": [
    "# MATRIZ DE CONFUSÃO RL\n",
    "predicaoRL = regressao.predict(testFeatures)\n",
    "confusion_matrix(testLabel, predicaoRL)"
   ]
  },
  {
   "cell_type": "markdown",
   "metadata": {},
   "source": [
    "#### > Curva ROC a partir do melhor hiperparâmetro de cada classificador"
   ]
  },
  {
   "cell_type": "code",
   "execution_count": 109,
   "metadata": {},
   "outputs": [
    {
     "data": {
      "text/plain": [
       "KNeighborsClassifier(n_neighbors=40)"
      ]
     },
     "execution_count": 109,
     "metadata": {},
     "output_type": "execute_result"
    }
   ],
   "source": [
    "#Para kNN:\n",
    "knn = KNeighborsClassifier(n_neighbors=40)\n",
    "knn.fit(trainFeatures, trainLabel)"
   ]
  },
  {
   "cell_type": "code",
   "execution_count": 110,
   "metadata": {},
   "outputs": [],
   "source": [
    "predictProbaknn = knn.predict_proba(testFeatures)"
   ]
  },
  {
   "cell_type": "code",
   "execution_count": 111,
   "metadata": {},
   "outputs": [],
   "source": [
    "fprknn, tprknn, limiarknn = roc_curve(testLabel, predictProbaknn[:,1], pos_label=1)"
   ]
  },
  {
   "cell_type": "code",
   "execution_count": 112,
   "metadata": {},
   "outputs": [
    {
     "data": {
      "text/plain": [
       "DecisionTreeClassifier(min_samples_split=100)"
      ]
     },
     "execution_count": 112,
     "metadata": {},
     "output_type": "execute_result"
    }
   ],
   "source": [
    "#Para Decision Tree:\n",
    "tree = DecisionTreeClassifier(min_samples_split=100)\n",
    "tree.fit(trainFeatures, trainLabel)"
   ]
  },
  {
   "cell_type": "code",
   "execution_count": 113,
   "metadata": {},
   "outputs": [],
   "source": [
    "predictProbaTree = tree.predict_proba(testFeatures)"
   ]
  },
  {
   "cell_type": "code",
   "execution_count": 114,
   "metadata": {},
   "outputs": [],
   "source": [
    "fprtree, tprtree, limiartree = roc_curve(testLabel, predictProbaTree[:,1], pos_label=1)"
   ]
  },
  {
   "cell_type": "code",
   "execution_count": 115,
   "metadata": {
    "scrolled": true
   },
   "outputs": [
    {
     "data": {
      "text/plain": [
       "RandomForestClassifier(n_estimators=45)"
      ]
     },
     "execution_count": 115,
     "metadata": {},
     "output_type": "execute_result"
    }
   ],
   "source": [
    "#Para Random Forest\n",
    "forest = RandomForestClassifier(n_estimators=45)\n",
    "forest.fit(trainFeatures, trainLabel)"
   ]
  },
  {
   "cell_type": "code",
   "execution_count": 116,
   "metadata": {},
   "outputs": [],
   "source": [
    "predictProbaRF = forest.predict_proba(testFeatures)"
   ]
  },
  {
   "cell_type": "code",
   "execution_count": 117,
   "metadata": {},
   "outputs": [],
   "source": [
    "fprforest, tprforest, limiarforest = roc_curve(testLabel, predictProbaRF[:,1], pos_label=1)"
   ]
  },
  {
   "cell_type": "code",
   "execution_count": 118,
   "metadata": {},
   "outputs": [
    {
     "data": {
      "text/plain": [
       "AdaBoostClassifier(n_estimators=40)"
      ]
     },
     "execution_count": 118,
     "metadata": {},
     "output_type": "execute_result"
    }
   ],
   "source": [
    "#Para AdaBoost\n",
    "adaboost = AdaBoostClassifier(n_estimators=40)\n",
    "adaboost.fit(trainFeatures, trainLabel)"
   ]
  },
  {
   "cell_type": "code",
   "execution_count": 119,
   "metadata": {},
   "outputs": [],
   "source": [
    "predictProbaAda = adaboost.predict_proba(testFeatures)"
   ]
  },
  {
   "cell_type": "code",
   "execution_count": 120,
   "metadata": {},
   "outputs": [],
   "source": [
    "fprAda, tprAda, limiarAda = roc_curve(testLabel, predictProbaAda[:,1], pos_label=1)"
   ]
  },
  {
   "cell_type": "code",
   "execution_count": 128,
   "metadata": {},
   "outputs": [
    {
     "data": {
      "text/plain": [
       "LogisticRegression(intercept_scaling=100)"
      ]
     },
     "execution_count": 128,
     "metadata": {},
     "output_type": "execute_result"
    }
   ],
   "source": [
    "#Para Regressão Logística\n",
    "regressao = LogisticRegression(intercept_scaling=100)\n",
    "regressao.fit(trainFeatures, trainLabel)"
   ]
  },
  {
   "cell_type": "code",
   "execution_count": 129,
   "metadata": {},
   "outputs": [],
   "source": [
    "predictProbaRL = regressao.predict_proba(testFeatures)"
   ]
  },
  {
   "cell_type": "code",
   "execution_count": 130,
   "metadata": {},
   "outputs": [],
   "source": [
    "fprRL, tprRL, limiarRL = roc_curve(testLabel, predictProbaRL[:,1], pos_label=1)"
   ]
  },
  {
   "cell_type": "code",
   "execution_count": 131,
   "metadata": {},
   "outputs": [
    {
     "data": {
      "image/png": "[encoded data removed]",
      "text/plain": [
       "<Figure size 432x288 with 1 Axes>"
      ]
     },
     "metadata": {
      "needs_background": "light"
     },
     "output_type": "display_data"
    }
   ],
   "source": [
    "plt.plot(fprknn, tprknn)\n",
    "plt.plot(fprtree, tprtree)\n",
    "plt.plot(fprforest, tprforest)\n",
    "plt.plot(fprAda, tprAda)\n",
    "plt.plot(fprRL, tprRL)\n",
    "plt.legend(['kNN','Decision Tree', 'Random Forest', 'AdaBoost', 'Logistic Regression'])\n",
    "plt.xlabel('FPR')\n",
    "plt.ylabel('TPR')\n",
    "plt.show()"
   ]
  },
  {
   "cell_type": "markdown",
   "metadata": {},
   "source": [
    "#### > Determinar AUC das curvas dos classificadores"
   ]
  },
  {
   "cell_type": "code",
   "execution_count": 132,
   "metadata": {
    "scrolled": true
   },
   "outputs": [
    {
     "data": {
      "text/plain": [
       "(0.9477998552558918,\n",
       " 0.9284974395384653,\n",
       " 0.9613152506096745,\n",
       " 0.9526065944318108,\n",
       " 0.943057942232695)"
      ]
     },
     "execution_count": 132,
     "metadata": {},
     "output_type": "execute_result"
    }
   ],
   "source": [
    "aucknn = auc(fprknn, tprknn)\n",
    "aucRF = auc(fprforest, tprforest)\n",
    "aucDT = auc(fprtree, tprtree)\n",
    "aucAda = auc(fprAda, tprAda)\n",
    "aucRL = auc(fprRL, tprRL)\n",
    "aucknn, aucDT, aucRF, aucAda, aucRL"
   ]
  },
  {
   "cell_type": "markdown",
   "metadata": {},
   "source": [
    "Com AUC de 0.96, Random Forest é o melhor classificador para esta classe"
   ]
  },
  {
   "cell_type": "markdown",
   "metadata": {},
   "source": [
    "#### > Determinar a acurária do melhor ponto de operação da RF"
   ]
  },
  {
   "cell_type": "code",
   "execution_count": 126,
   "metadata": {
    "scrolled": true
   },
   "outputs": [
    {
     "data": {
      "image/png": "[encoded data removed]",
      "text/plain": [
       "<Figure size 432x288 with 1 Axes>"
      ]
     },
     "metadata": {
      "needs_background": "light"
     },
     "output_type": "display_data"
    }
   ],
   "source": [
    "plt.scatter(fprforest, tprforest, color='g')\n",
    "plt.title('Random Forest')\n",
    "plt.xlabel('FPR')\n",
    "plt.ylabel('TPR')\n",
    "plt.show()"
   ]
  },
  {
   "cell_type": "code",
   "execution_count": 127,
   "metadata": {
    "scrolled": false
   },
   "outputs": [
    {
     "data": {
      "text/plain": [
       "(array([0.00000000e+00, 0.00000000e+00, 0.00000000e+00, 4.24628450e-04,\n",
       "        4.24628450e-04, 1.69851380e-03, 2.12314225e-03, 2.54777070e-03,\n",
       "        2.54777070e-03, 2.97239915e-03, 3.39702760e-03, 3.82165605e-03,\n",
       "        4.67091295e-03, 5.94479830e-03, 6.79405520e-03, 7.21868365e-03,\n",
       "        8.91719745e-03, 1.06157113e-02, 1.06157113e-02, 1.27388535e-02,\n",
       "        1.44373673e-02, 1.78343949e-02, 2.12314225e-02, 2.37791932e-02,\n",
       "        2.67515924e-02, 3.05732484e-02, 3.73673036e-02, 4.24628450e-02,\n",
       "        5.05307856e-02, 5.90233546e-02, 6.41188960e-02, 7.13375796e-02,\n",
       "        7.94055202e-02, 9.38428875e-02, 1.04033970e-01, 1.20169851e-01,\n",
       "        1.43524416e-01, 1.57112527e-01, 1.77919321e-01, 2.05095541e-01,\n",
       "        2.33545648e-01, 2.71337580e-01, 3.26114650e-01, 3.88959660e-01,\n",
       "        4.72611465e-01, 6.21656051e-01, 1.00000000e+00]),\n",
       " array([0.        , 0.02746365, 0.06138934, 0.11954766, 0.15993538,\n",
       "        0.20516963, 0.25686591, 0.29886914, 0.33764136, 0.36672052,\n",
       "        0.41195477, 0.43941842, 0.47011309, 0.49919225, 0.53311793,\n",
       "        0.56058158, 0.58642973, 0.60258481, 0.63327948, 0.65912763,\n",
       "        0.67528271, 0.69466882, 0.71890145, 0.74151858, 0.76252019,\n",
       "        0.77867528, 0.7996769 , 0.81421648, 0.83521809, 0.84652666,\n",
       "        0.85783522, 0.88368336, 0.89983845, 0.91114701, 0.91599354,\n",
       "        0.92568659, 0.93053312, 0.93861066, 0.94184168, 0.95153473,\n",
       "        0.9628433 , 0.96930533, 0.97576737, 0.97899838, 0.9822294 ,\n",
       "        0.99192246, 1.        ]),\n",
       " array([2.        , 1.        , 0.97777778, 0.95555556, 0.93333333,\n",
       "        0.91111111, 0.88888889, 0.86666667, 0.84444444, 0.82222222,\n",
       "        0.8       , 0.77777778, 0.75555556, 0.73333333, 0.71111111,\n",
       "        0.68888889, 0.66666667, 0.64444444, 0.62222222, 0.6       ,\n",
       "        0.57777778, 0.55555556, 0.53333333, 0.51111111, 0.48888889,\n",
       "        0.46666667, 0.44444444, 0.42222222, 0.4       , 0.37777778,\n",
       "        0.35555556, 0.33333333, 0.31111111, 0.28888889, 0.26666667,\n",
       "        0.24444444, 0.22222222, 0.2       , 0.17777778, 0.15555556,\n",
       "        0.13333333, 0.11111111, 0.08888889, 0.06666667, 0.04444444,\n",
       "        0.02222222, 0.        ]))"
      ]
     },
     "execution_count": 127,
     "metadata": {},
     "output_type": "execute_result"
    }
   ],
   "source": [
    "fprforest, tprforest, limiarforest"
   ]
  },
  {
   "cell_type": "markdown",
   "metadata": {},
   "source": [
    "#### Operar com o fpr em 10% e o maior tpr possível\n",
    "\n",
    "tpr = 0.91760905\n",
    "\n",
    "fpr = 1.18895966e-01\n",
    "\n",
    "limiar = 0.26666667"
   ]
  },
  {
   "cell_type": "markdown",
   "metadata": {},
   "source": [
    "# Últimos passos"
   ]
  },
  {
   "cell_type": "markdown",
   "metadata": {},
   "source": [
    "1. Salve uma cópia deste relatório em formato PDF (`.pdf`)\n",
    "2. Envie o relatório na respectiva atividade no Blackboard."
   ]
  }
 ],
 "metadata": {
  "kernelspec": {
   "display_name": "Python 3",
   "language": "python",
   "name": "python3"
  },
  "language_info": {
   "codemirror_mode": {
    "name": "ipython",
    "version": 3
   },
   "file_extension": ".py",
   "mimetype": "text/x-python",
   "name": "python",
   "nbconvert_exporter": "python",
   "pygments_lexer": "ipython3",
   "version": "3.8.8"
  }
 },
 "nbformat": 4,
 "nbformat_minor": 4
}
